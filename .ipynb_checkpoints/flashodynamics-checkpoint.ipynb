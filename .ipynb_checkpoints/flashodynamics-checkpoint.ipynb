{
 "cells": [
  {
   "cell_type": "code",
   "execution_count": 1,
   "metadata": {
    "collapsed": true
   },
   "outputs": [],
   "source": [
    "import numpy as np"
   ]
  },
  {
   "cell_type": "code",
   "execution_count": 96,
   "metadata": {
    "collapsed": false
   },
   "outputs": [],
   "source": [
    "class peng_robinson():\n",
    "    '''Peng-Robinson's cubic EOS instantiation class for a N-component mixture.\n",
    "    \n",
    "    Parameters\n",
    "    ----------\n",
    "    T : float or int\n",
    "        fluid temperature (K)\n",
    "    p : float or int\n",
    "        fluid pressure (Pa)\n",
    "    Tc : array-like\n",
    "        critical temperature (K)\n",
    "    pc : array-like\n",
    "        critical pressure (Pa)\n",
    "    xm : array-like\n",
    "        molar fraction (-)\n",
    "    M : array-like\n",
    "        molar mass (kg/kmol)\n",
    "    omega : array-like\n",
    "        acentric factor (?)\n",
    "    \n",
    "    Attributes\n",
    "    ----------\n",
    "    T : float or int\n",
    "        fluid temperature (K)\n",
    "    p : float or int\n",
    "        fluid pressure (Pa)\n",
    "    Tc : array-like\n",
    "        critical temperature (K)\n",
    "    pc : array-like\n",
    "        critical pressure (Pa)\n",
    "    xm : array-like\n",
    "        molar fraction (-)\n",
    "    M : array-like\n",
    "        molar mass (kg/kmol)\n",
    "    omega : array-like\n",
    "        acentric factor (?)\n",
    "    Tr : array-like\n",
    "        reduced temperature (-)\n",
    "    pr : array-like\n",
    "        reduced pressure (-)\n",
    "    N : int\n",
    "        number of mixture components\n",
    "    \n",
    "    Methods\n",
    "    -------\n",
    "    *********TO DO************\n",
    "    '''\n",
    "    def __init__(self, T, p, Tc, pc, xm, M, omega):\n",
    "        self.T = T\n",
    "        self.p = p\n",
    "        self.Tc = np.array(Tc)\n",
    "        self.pc = np.array(pc)\n",
    "        self.xm = np.array(xm)\n",
    "        self.M = np.array(M)\n",
    "        self.omega = np.array(omega)\n",
    "        self.Tr = T / self.Tc\n",
    "        self.pr = p / self.pc\n",
    "        self.N = self.Tc.shape[0]\n",
    "        \n",
    "    def kappa_pr(self):\n",
    "        omega = self.omega\n",
    "        return 0.37464 + 1.54226 * omega - 0.26993 * omega ** 2\n",
    "    \n",
    "    def alpha_pr(self):\n",
    "        kappa = self.kappa_pr()\n",
    "        Tr = self.Tr\n",
    "        return (1 + kappa * (1 - Tr ** 0.5)) ** 2\n",
    "    \n",
    "    def ai_pr(self):\n",
    "        alpha = self.alpha_pr()\n",
    "        Tc = self.Tc\n",
    "        pc = self.pc\n",
    "        return 0.45723553 * alpha * ( R ** 2 * Tc ** 2 ) / pc\n",
    "    \n",
    "    def a_pr(self):\n",
    "        '''Lacks documentation,\n",
    "        sofisticated methods'''\n",
    "        xm = self.xm\n",
    "        ai = self.ai_pr()\n",
    "        k = np.array([1,2,3,4])\n",
    "        aij = np.einsum('i,j->ij', ai, ai).ravel() ** 0.5 * (1 - k)\n",
    "        return np.sum(np.einsum('i,j->ij', xm, xm).ravel() * aij)\n",
    "    \n",
    "    def A_pr(self):\n",
    "        a = self.a_pr()\n",
    "        p = self.p\n",
    "        T = self.T\n",
    "        return (a * p) / (R **2 * T **2)\n",
    "           \n",
    "    def bi_pr(self):\n",
    "        Tc = self.Tc\n",
    "        pc = self.pc\n",
    "        return 0.07779607 * ( R * Tc ) / pc\n",
    "    \n",
    "    def b_pr(self):\n",
    "        xm = self.xm\n",
    "        bi = self.bi_pr()\n",
    "        return np.dot(xm, bi)\n",
    "    \n",
    "    def B_pr(self):\n",
    "        b = self.b_pr()\n",
    "        p = self.p\n",
    "        T = self.T\n",
    "        return (b * p) / (R * T)\n",
    "    \n",
    "    def Z_coefs(self):\n",
    "        A = self.A_pr()\n",
    "        B = self.B_pr()\n",
    "        return(1, -( 1 - B ),\n",
    "               (A - 3 * B ** 2 - 2 * B),\n",
    "               -( A * B - B ** 2 - B ** 3 ))"
   ]
  },
  {
   "cell_type": "code",
   "execution_count": 92,
   "metadata": {
    "collapsed": false
   },
   "outputs": [
    {
     "name": "stdout",
     "output_type": "stream",
     "text": [
      "[ 0.46511628  0.6       ] [ 0.1       0.506625]\n"
     ]
    }
   ],
   "source": [
    "T = 300\n",
    "p = 101325\n",
    "Tc = [645, 500]\n",
    "pc = [1013250, 200000]\n",
    "M = [28, 14]\n",
    "omega = [0.132, 0.25]\n",
    "xm = [0.1, 0.9]\n",
    "R = 8.314\n",
    "pr = peng_robinson(T,p,Tc,pc,xm,M,omega)\n",
    "print(pr.Tr, pr.pr)"
   ]
  },
  {
   "cell_type": "code",
   "execution_count": 93,
   "metadata": {
    "collapsed": false
   },
   "outputs": [
    {
     "data": {
      "text/plain": [
       "(array([ 0.57351506,  0.74333437]),\n",
       " array([ 1.39802491,  1.36317311]),\n",
       " array([ 18.14168986,  53.85438029]))"
      ]
     },
     "execution_count": 93,
     "metadata": {},
     "output_type": "execute_result"
    }
   ],
   "source": [
    "pr.kappa_pr(), pr.alpha_pr(), pr.ai_pr()"
   ]
  },
  {
   "cell_type": "code",
   "execution_count": 94,
   "metadata": {
    "collapsed": false
   },
   "outputs": [
    {
     "data": {
      "text/plain": [
       "(-139.3055747821933,\n",
       " array([ 0.00041173,  0.00161699]),\n",
       " 0.0014964650193056883,\n",
       " -2.2689376366731451,\n",
       " 0.060792766450625008)"
      ]
     },
     "execution_count": 94,
     "metadata": {},
     "output_type": "execute_result"
    }
   ],
   "source": [
    "a = pr.ai_pr()\n",
    "pr.a_pr(),pr.bi_pr(), pr.b_pr(), pr.A_pr(), pr.B_pr()"
   ]
  },
  {
   "cell_type": "code",
   "execution_count": 62,
   "metadata": {
    "collapsed": false
   },
   "outputs": [
    {
     "data": {
      "text/plain": [
       "array([  329.12091092,   977.00946482,   977.00946482,  2900.29427688])"
      ]
     },
     "execution_count": 62,
     "metadata": {},
     "output_type": "execute_result"
    }
   ],
   "source": [
    "np.einsum('i,j->ij',a,a).ravel()"
   ]
  },
  {
   "cell_type": "code",
   "execution_count": 67,
   "metadata": {
    "collapsed": false
   },
   "outputs": [
    {
     "data": {
      "text/plain": [
       "array([   0.        ,  -31.25715062,  -62.51430124, -161.56314088])"
      ]
     },
     "execution_count": 67,
     "metadata": {},
     "output_type": "execute_result"
    }
   ],
   "source": [
    "k = np.array([1,2,3,4])\n",
    "c = np.einsum('i,j->ij', a, a).ravel()\n",
    "ck = c**0.5 * (1-k)\n",
    "ck"
   ]
  },
  {
   "cell_type": "code",
   "execution_count": 86,
   "metadata": {
    "collapsed": false
   },
   "outputs": [
    {
     "data": {
      "text/plain": [
       "0.0014964650193056883"
      ]
     },
     "execution_count": 86,
     "metadata": {},
     "output_type": "execute_result"
    }
   ],
   "source": [
    "np.dot(xm,pr.bi_pr())"
   ]
  },
  {
   "cell_type": "code",
   "execution_count": null,
   "metadata": {
    "collapsed": true
   },
   "outputs": [],
   "source": []
  }
 ],
 "metadata": {
  "kernelspec": {
   "display_name": "Python 3",
   "language": "python",
   "name": "python3"
  },
  "language_info": {
   "codemirror_mode": {
    "name": "ipython",
    "version": 3
   },
   "file_extension": ".py",
   "mimetype": "text/x-python",
   "name": "python",
   "nbconvert_exporter": "python",
   "pygments_lexer": "ipython3",
   "version": "3.5.2"
  }
 },
 "nbformat": 4,
 "nbformat_minor": 2
}
