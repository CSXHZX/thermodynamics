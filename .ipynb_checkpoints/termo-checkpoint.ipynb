{
 "cells": [
  {
   "cell_type": "markdown",
   "metadata": {},
   "source": [
    "## Thermodynamics\n",
    "### Phase equilibrium\n",
    "##### UNIFAC method - Activity coefficient"
   ]
  },
  {
   "cell_type": "code",
   "execution_count": 1,
   "metadata": {
    "collapsed": false
   },
   "outputs": [],
   "source": [
    "import numpy as np\n",
    "import pandas as pd\n",
    "import CoolProp.CoolProp as CP\n",
    "import scipy.optimize as opt\n",
    "import matplotlib.pyplot as plt\n",
    "%matplotlib inline\n",
    "import seaborn as sns"
   ]
  },
  {
   "cell_type": "markdown",
   "metadata": {},
   "source": [
    "Molecular group data, extracted from the course material."
   ]
  },
  {
   "cell_type": "code",
   "execution_count": 2,
   "metadata": {
    "collapsed": false
   },
   "outputs": [
    {
     "data": {
      "text/html": [
       "<div>\n",
       "<table border=\"1\" class=\"dataframe\">\n",
       "  <thead>\n",
       "    <tr style=\"text-align: right;\">\n",
       "      <th></th>\n",
       "      <th>1</th>\n",
       "      <th>2</th>\n",
       "      <th>3</th>\n",
       "      <th>4</th>\n",
       "      <th>5</th>\n",
       "      <th>6</th>\n",
       "      <th>7</th>\n",
       "      <th>8</th>\n",
       "      <th>9</th>\n",
       "      <th>10</th>\n",
       "      <th>11</th>\n",
       "      <th>12</th>\n",
       "      <th>13</th>\n",
       "      <th>14</th>\n",
       "      <th>15</th>\n",
       "      <th>16</th>\n",
       "      <th>17</th>\n",
       "      <th>18</th>\n",
       "    </tr>\n",
       "  </thead>\n",
       "  <tbody>\n",
       "    <tr>\n",
       "      <th>1</th>\n",
       "      <td>0.00</td>\n",
       "      <td>8602.000</td>\n",
       "      <td>61.13</td>\n",
       "      <td>76.50</td>\n",
       "      <td>986.5</td>\n",
       "      <td>697.2</td>\n",
       "      <td>1318.0</td>\n",
       "      <td>1333.0</td>\n",
       "      <td>476.40</td>\n",
       "      <td>677.0</td>\n",
       "      <td>232.100</td>\n",
       "      <td>507.0</td>\n",
       "      <td>251.50</td>\n",
       "      <td>391.500</td>\n",
       "      <td>255.70</td>\n",
       "      <td>206.60</td>\n",
       "      <td>920.70</td>\n",
       "      <td>287.800</td>\n",
       "    </tr>\n",
       "    <tr>\n",
       "      <th>2</th>\n",
       "      <td>-35.36</td>\n",
       "      <td>0.000</td>\n",
       "      <td>38.81</td>\n",
       "      <td>74.15</td>\n",
       "      <td>524.1</td>\n",
       "      <td>787.6</td>\n",
       "      <td>270.6</td>\n",
       "      <td>526.1</td>\n",
       "      <td>182.60</td>\n",
       "      <td>448.8</td>\n",
       "      <td>37.850</td>\n",
       "      <td>333.5</td>\n",
       "      <td>214.50</td>\n",
       "      <td>240.900</td>\n",
       "      <td>163.90</td>\n",
       "      <td>61.11</td>\n",
       "      <td>749.30</td>\n",
       "      <td>2811.500</td>\n",
       "    </tr>\n",
       "    <tr>\n",
       "      <th>3</th>\n",
       "      <td>-11.12</td>\n",
       "      <td>3.446</td>\n",
       "      <td>0.00</td>\n",
       "      <td>167.00</td>\n",
       "      <td>636.1</td>\n",
       "      <td>637.4</td>\n",
       "      <td>903.8</td>\n",
       "      <td>1329.0</td>\n",
       "      <td>25.77</td>\n",
       "      <td>347.3</td>\n",
       "      <td>5.994</td>\n",
       "      <td>287.1</td>\n",
       "      <td>32.14</td>\n",
       "      <td>161.700</td>\n",
       "      <td>122.80</td>\n",
       "      <td>9049.00</td>\n",
       "      <td>648.20</td>\n",
       "      <td>-4.449</td>\n",
       "    </tr>\n",
       "    <tr>\n",
       "      <th>4</th>\n",
       "      <td>-69.70</td>\n",
       "      <td>-113.600</td>\n",
       "      <td>-146.80</td>\n",
       "      <td>0.00</td>\n",
       "      <td>803.2</td>\n",
       "      <td>603.3</td>\n",
       "      <td>5695.0</td>\n",
       "      <td>4.9</td>\n",
       "      <td>-52.10</td>\n",
       "      <td>586.8</td>\n",
       "      <td>5688.000</td>\n",
       "      <td>197.8</td>\n",
       "      <td>213.10</td>\n",
       "      <td>19.020</td>\n",
       "      <td>-49.29</td>\n",
       "      <td>23.50</td>\n",
       "      <td>663.20</td>\n",
       "      <td>52.800</td>\n",
       "    </tr>\n",
       "    <tr>\n",
       "      <th>5</th>\n",
       "      <td>156.40</td>\n",
       "      <td>457.000</td>\n",
       "      <td>89.60</td>\n",
       "      <td>25.82</td>\n",
       "      <td>0.0</td>\n",
       "      <td>-137.1</td>\n",
       "      <td>353.5</td>\n",
       "      <td>-259.7</td>\n",
       "      <td>84.00</td>\n",
       "      <td>-203.6</td>\n",
       "      <td>101.100</td>\n",
       "      <td>267.8</td>\n",
       "      <td>28.06</td>\n",
       "      <td>8.642</td>\n",
       "      <td>42.70</td>\n",
       "      <td>-3210.00</td>\n",
       "      <td>-52.39</td>\n",
       "      <td>170.000</td>\n",
       "    </tr>\n",
       "  </tbody>\n",
       "</table>\n",
       "</div>"
      ],
      "text/plain": [
       "        1         2       3       4      5      6       7       8       9  \\\n",
       "1    0.00  8602.000   61.13   76.50  986.5  697.2  1318.0  1333.0  476.40   \n",
       "2  -35.36     0.000   38.81   74.15  524.1  787.6   270.6   526.1  182.60   \n",
       "3  -11.12     3.446    0.00  167.00  636.1  637.4   903.8  1329.0   25.77   \n",
       "4  -69.70  -113.600 -146.80    0.00  803.2  603.3  5695.0     4.9  -52.10   \n",
       "5  156.40   457.000   89.60   25.82    0.0 -137.1   353.5  -259.7   84.00   \n",
       "\n",
       "      10        11     12      13       14      15       16      17        18  \n",
       "1  677.0   232.100  507.0  251.50  391.500  255.70   206.60  920.70   287.800  \n",
       "2  448.8    37.850  333.5  214.50  240.900  163.90    61.11  749.30  2811.500  \n",
       "3  347.3     5.994  287.1   32.14  161.700  122.80  9049.00  648.20    -4.449  \n",
       "4  586.8  5688.000  197.8  213.10   19.020  -49.29    23.50  663.20    52.800  \n",
       "5 -203.6   101.100  267.8   28.06    8.642   42.70 -3210.00  -52.39   170.000  "
      ]
     },
     "execution_count": 2,
     "metadata": {},
     "output_type": "execute_result"
    }
   ],
   "source": [
    "groups = { # main: {secondary i:[molecule,R,Q],secondary i+1:[molécula,R,Q],etc}\n",
    "    1: {1:['CH3',0.9011,0.848],2:['CH2',0.6744,0.540],3:['CH',0.4469,0.228],4:['C',0.2195,0]},\n",
    "    2: {5:['CH2CH',1.3454,1.176],6:['CHCH',1.1167,0.867],7:['CH2C',1.1173,0.988],8:['CHC',0.8886,0.676],70:['CC',0.6605,0.485]},\n",
    "    3: {9:['ACH',0.5313,0.400],10:['AC',0.3652,0.120]},\n",
    "    4: {11:['ACCH3',1.2663,0.968],12:['ACCH2',1.0396,0.660],13:['ACCH',0.8121,0.348]},\n",
    "    5: {14:['OH',1.000,1.200]},\n",
    "    6: {15:['CH3OH',1.4311,1.432]},\n",
    "    7: {16:['H2O',0.9200,1.400]},\n",
    "    8: {17:['ACOH',0.8952,0.680]},\n",
    "    9: {18:['CH3CO',1.6724,1.488],19:['CH2CO',1.4457,1.180]},\n",
    "    10: {20:['CHO',0.9980,0.948]},\n",
    "    11: {21:['CH3COO',1.9031,1.728],22:['CH2COO',1.6764,1.420]},\n",
    "    12: {23:['HCOO',1.2420,1.188]}\n",
    "}\n",
    "g_groups = {}\n",
    "for i in groups.values():\n",
    "    g_groups.update(i)\n",
    "    \n",
    "a_mn = pd.read_csv('a-mn.csv', sep=';', index_col=0)\n",
    "a_mn.head()"
   ]
  },
  {
   "cell_type": "markdown",
   "metadata": {},
   "source": [
    "## UNIFAC Method\n",
    "#### >> brief explanation goes here <<\n",
    "\n",
    "**Molecule class and it's methods:**\n",
    "* initializer - molecular group code and its respective amount\n",
    "\n",
    "\\> **combinatiorial activity coefficient** - _the easy one, be like it_\n",
    "* r, q and l coefficients\n",
    "* $\\phi$ and $\\theta$ factors\n",
    "* $\\gamma^c$- combinatorial activity coefficient\n",
    "\n",
    "\\> **residual activity coefficient** - _the hard one, don't be this one_\n",
    "* $\\psi$ factor\n",
    "* $\\Gamma_k$, X and $\\theta$\n",
    "* $\\Gamma_k^i$, $X^i$ and $\\theta^i$\n",
    "        \n",
    "$$\\ln{\\gamma^r} = \\sum \\nu_k (\\ln\\Gamma_k - \\ln\\Gamma_k^i)$$\n",
    "\n",
    "\\> **acitivity coefficient**\n",
    "\n",
    "$$\\ln{\\gamma} = \\ln{\\gamma^c} + \\ln{\\gamma^r}$$"
   ]
  },
  {
   "cell_type": "code",
   "execution_count": 40,
   "metadata": {
    "collapsed": true
   },
   "outputs": [],
   "source": [
    "class molecule():\n",
    "    def __init__(self,molGroups):\n",
    "        self.g = molGroups.keys()\n",
    "        self.v = molGroups.values()\n",
    "        self.groups = molGroups        \n",
    "        \n",
    "    def rql(self):\n",
    "        z,r,q = 10,0,0        \n",
    "        num = len(self.g)\n",
    "        if num > 1:\n",
    "            for i,k in zip(self.g,self.v):\n",
    "                r += g_groups[i][1] * k\n",
    "                q += g_groups[i][2] * k\n",
    "        else:\n",
    "            r = g_groups[tuple(self.g)[0]][1] * tuple(self.v)[0]\n",
    "            q = g_groups[tuple(self.g)[0]][2] * tuple(self.v)[0]\n",
    "        self.l = 0.5 * z * (r - q) - (r - 1)\n",
    "        self.r,self.q = r,q\n",
    "        return(self.r,self.q,self.l)\n",
    "    \n",
    "    def phi_theta(self, fluid):\n",
    "        phi,theta = {},{}       \n",
    "        phi[self] = self.r * x / (self.r * x + fluid.r * (1 - x))\n",
    "        phi[fluid] = fluid.r * (1 - x) / (self.r * x + fluid.r * (1 - x))\n",
    "        theta[self] = self.q * x / (self.q * x + fluid.q * (1 - x))\n",
    "        theta[fluid] = fluid.q * (1 - x) / (self.q * x + fluid.q * (1 - x))\n",
    "        self.phi, self.theta = phi[self], theta[self]\n",
    "        fluid.phi, fluid.theta = phi[fluid], theta[fluid]\n",
    "        return(self.phi, self.theta, fluid.phi, fluid.theta)\n",
    "    \n",
    "    def combinatorial(self, fluid):\n",
    "        self.phi_theta(fluid)\n",
    "        self.x, fluid.x = x, (1-x)\n",
    "        self.gamma_c_ln = np.log(self.phi / self.x) + 5 * self.q * np.log(self.theta / self.phi) + \\\n",
    "                    self.l - (self.phi / self.x) * ( fluid.x * fluid.l + self.x * self.l )\n",
    "        fluid.gamma_c_ln = np.log(fluid.phi / fluid.x) + 5 * fluid.q * np.log(fluid.theta / fluid.phi) + \\\n",
    "                    fluid.l - (fluid.phi / fluid.x) * ( self.x * self.l + fluid.x * fluid.l )\n",
    "        self.gamma = np.exp(self.gamma_c_ln)\n",
    "        fluid.gamma = np.exp(fluid.gamma_c_ln)\n",
    "        return(self.gamma_c_ln, fluid.gamma_c_ln)    \n",
    "        \n",
    "    def psi_mod(self, fluid, pairs):\n",
    "        self.p = tuple([(i,j) for i in pairs for j in pairs])\n",
    "        a, psi = {}, {}\n",
    "        for i in self.p:\n",
    "            j = (i[0]-1,i[1]-1)\n",
    "            a[i] = a_mn.iat[j]\n",
    "            psi[i] = np.exp(-a_mn.iat[j] / T)\n",
    "        self.a_k, self.a_v, self.a = a.keys(), a.values(), a\n",
    "        self.psi_k, self.psi_v, self.psi = psi.keys(), psi.values(), psi\n",
    "        self.psi_matrix = np.reshape(np.array([self.psi[i] for i in self.p]),(len(pairs),len(pairs)))\n",
    "        return(self.a_k, self.a_v, self.a)\n",
    "        return(self.psi_k, self.psi_v, self.psi)\n",
    "        return(self.p)\n",
    "        return(self.psi_matrix)\n",
    "    \n",
    "    def X_mod(self, fluid):            \n",
    "        self.x, fluid.x = x, (1-x)\n",
    "        den = sum([self.groups[k] for k in list(self.g)]) * self.x + \\\n",
    "              sum([fluid.groups[k] for k in list(fluid.g)]) * fluid.x\n",
    "        X = []\n",
    "        v1, v2 = list(self.v), list(fluid.v)\n",
    "        Xi = np.array(v1) / sum(v1), np.array(v2) / sum(v2)\n",
    "        self.Xi = Xi\n",
    "        g_list = list(set([i for j in [list(self.g),list(fluid.g)] for i in j]))\n",
    "        for k in sorted(g_list):\n",
    "            nom = 0\n",
    "            if k in list(self.g):\n",
    "                nom += self.groups[k] * self.x\n",
    "            if k in list(fluid.g):\n",
    "                nom += fluid.groups[k] * fluid.x\n",
    "            X.append(nom / den)      \n",
    "        self.X = X       \n",
    "        return(self.X)\n",
    "    \n",
    "    def X_mod_i(self, fluid):   \n",
    "        self.x, fluid.x = x, (1-x)\n",
    "        den = sum([self.groups[k] for k in list(self.g)]) * self.x + \\\n",
    "              sum([fluid.groups[k] for k in list(fluid.g)]) * fluid.x\n",
    "        X = []\n",
    "        v1, v2 = list(self.v), list(fluid.v)\n",
    "        Xi = np.array(v1) / sum(v1), np.array(v2) / sum(v2)\n",
    "        self.Xi = Xi\n",
    "        return(self.Xi)\n",
    "    \n",
    "    def Theta_mod(self, fluid):\n",
    "        Xx = self.X_mod(fluid)\n",
    "        g_list = list(set([i for j in [list(self.g),list(fluid.g)] for i in j]))\n",
    "        nom = np.multiply(np.transpose(Xx) ,np.array([g_groups[k][2] for k in sorted(g_list)]))\n",
    "        den = sum(nom)\n",
    "        self.Theta = np.divide(nom, den)\n",
    "        return(self.Theta)\n",
    "    \n",
    "    def Theta_mod_i(self, fluid):\n",
    "        X_i = self.X_mod_i(fluid)\n",
    "        g1, g2 = list(self.g), list(fluid.g)\n",
    "        Q1, Q2 = [g_groups[i][2] for i in g1], [g_groups[i][2] for i in g2]\n",
    "        nom1, nom2 = np.multiply(self.Xi[0],Q1), np.multiply(self.Xi[1],Q2)\n",
    "        den1, den2 = sum(nom1), sum(nom2)\n",
    "        self.Theta1, self.Theta2 = nom1 / den1, nom2 / den2\n",
    "        return(self.Theta1, self.Theta2)\n",
    "    \n",
    "    def Gamma_k(self, fluid):        \n",
    "        t = self.Theta_mod(fluid)\n",
    "        g_list = list(set([i for j in [list(self.g),list(fluid.g)] for i in j]))\n",
    "        Q = [g_groups[k][2] for k in sorted(g_list)]\n",
    "        nTheta = np.reshape(t,(len(self.psi_matrix),1))\n",
    "        pt = np.multiply(self.psi_matrix,nTheta)\n",
    "        pt2 = np.multiply(self.psi_matrix,t)\n",
    "        denom = np.sum(pt,axis=0)\n",
    "        gam = 1 - np.log(denom) - np.sum(np.divide([i for i in pt2],denom),axis=1)\n",
    "        self.gamma_k_ln = np.multiply(Q,gam)\n",
    "        return(self.gamma_k_ln)\n",
    "    \n",
    "    def Gamma_k_i(self, fluid):\n",
    "        t1, t2 = self.Theta_mod_i(fluid)\n",
    "        g1, g2 = list(self.g), list(fluid.g)\n",
    "        Q1, Q2 = [g_groups[i][2] for i in g1], [g_groups[i][2] for i in g2]\n",
    "        Y = self.psi_matrix\n",
    "        a, b = np.multiply([Y[0,0],Y[2,0]], t1), np.multiply([Y[0,2],Y[2,2]], t1)\n",
    "        c, d = np.multiply([Y[0,0],Y[1,0]], t2), np.multiply([Y[0,1],Y[1,1]], t2)\n",
    "        e, f = np.multiply([Y[0,0],Y[0,2]], t1), np.multiply([Y[2,0],Y[2,2]], t1)\n",
    "        g, h = np.multiply([Y[0,0],Y[0,1]], t1), np.multiply([Y[1,0],Y[1,1]], t2)\n",
    "        gamma_1 = Q1[0] * (1 - np.log(sum(a)) - e[0] / sum(a) - e[1] / sum(b) )\n",
    "        gamma_2 = Q1[1] * (1 - np.log(sum(b)) - f[0] / sum(a) - f[1] / sum(b) )\n",
    "        gamma_3 = Q2[0] * (1 - np.log(sum(c)) - g[0] / sum(c) - g[1] / sum(d) )\n",
    "        gamma_4 = Q2[1] * (1 - np.log(sum(d)) - h[0] / sum(c) - h[1] / sum(d) )        \n",
    "        return(gamma_1,gamma_2,gamma_3,gamma_4)\n",
    "    \n",
    "    def residual(self, fluid):\n",
    "        v1, v2 = list(self.v), list(fluid.v)\n",
    "        k_i = self.Gamma_k_i(fluid)\n",
    "        g1 = np.array([self.Gamma_k(fluid)[0],self.Gamma_k(fluid)[1]])\n",
    "        g2 = np.array([self.Gamma_k(fluid)[0],self.Gamma_k(fluid)[2]])\n",
    "        gamma_r_ln_1 = sum(np.multiply(v1,g1-k_i[:2]))\n",
    "        gamma_r_ln_2 = sum(np.multiply(v2,g2-k_i[2:]))\n",
    "        gamma_r_1, gamma_r_2 = np.exp(gamma_r_ln_1), np.exp(gamma_r_ln_2)\n",
    "        return(gamma_r_ln_1, gamma_r_ln_2)\n",
    "    \n",
    "    def Gamma(self, fluid):\n",
    "        yr = self.residual(fluid)\n",
    "        #print(yr,'\\n')\n",
    "        yc = self.combinatorial(fluid)\n",
    "        #print(yc,'\\n')\n",
    "        y_ln = np.add(yr, yc)\n",
    "        #print(y_ln)\n",
    "        self.y = np.exp(y_ln)\n",
    "        return(self.y)"
   ]
  },
  {
   "cell_type": "code",
   "execution_count": 41,
   "metadata": {
    "collapsed": false
   },
   "outputs": [
    {
     "data": {
      "text/plain": [
       "\"T = 298.15\\npropane = molecule({1:2,2:1})\\nisobutane = molecule({1:2,3:1})\\nprint(propane.rql(),isobutane.rql())\\npropane.phi_theta(isobutane)\\nprint(propane.phi)\\nprint(propane.theta)\\nprint(propane.combinatorial(isobutane))\\nprint(x)\\nprint(isobutane.phi)\\nprint(isobutane.theta)\\nprint((1-x))\\nprint(propane.combinatorial(isobutane),'\\n')\\nprint(propane.gamma)\\nprint(isobutane.gamma)\\npropane.psi_mod(isobutane,[1,1,1])\\nprint(propane.psi_matrix)\\n#print([(methanol.psi[i],i) for i in methanol.p])\\npropane.X_mod(isobutane)\\nprint(propane.Theta_mod(isobutane))\\npropane.Gamma_k(isobutane)\\npropane.Theta_mod_i(isobutane)\\npropane.Gamma_k_i(isobutane)\\nprint(propane.residual(isobutane),'\\n')\\nprint('--','\\n')\\npropane.Gamma(isobutane)\\npropane.y\""
      ]
     },
     "execution_count": 41,
     "metadata": {},
     "output_type": "execute_result"
    }
   ],
   "source": [
    "#x = np.linspace(0.047,0.9,9) \n",
    "#x = 0.2\n",
    "'''T = 298.15\n",
    "propane = molecule({1:2,2:1})\n",
    "isobutane = molecule({1:2,3:1})\n",
    "print(propane.rql(),isobutane.rql())\n",
    "propane.phi_theta(isobutane)\n",
    "print(propane.phi)\n",
    "print(propane.theta)\n",
    "print(propane.combinatorial(isobutane))\n",
    "print(x)\n",
    "print(isobutane.phi)\n",
    "print(isobutane.theta)\n",
    "print((1-x))\n",
    "print(propane.combinatorial(isobutane),'\\n')\n",
    "print(propane.gamma)\n",
    "print(isobutane.gamma)\n",
    "propane.psi_mod(isobutane,[1,1,1])\n",
    "print(propane.psi_matrix)\n",
    "#print([(methanol.psi[i],i) for i in methanol.p])\n",
    "propane.X_mod(isobutane)\n",
    "print(propane.Theta_mod(isobutane))\n",
    "propane.Gamma_k(isobutane)\n",
    "propane.Theta_mod_i(isobutane)\n",
    "propane.Gamma_k_i(isobutane)\n",
    "print(propane.residual(isobutane),'\\n')\n",
    "print('--','\\n')\n",
    "propane.Gamma(isobutane)\n",
    "propane.y'''"
   ]
  },
  {
   "cell_type": "markdown",
   "metadata": {},
   "source": [
    "**Peng-Robinson Equation**\n",
    "\n",
    "\\begin{equation}\n",
    "p = \\frac{RT}{v-b} - \\frac{a}{v^2+2bv-b^2}\n",
    "\\end{equation}\n",
    "\n",
    "where:\n",
    "\\begin{equation}\n",
    "a_i = \\frac{0.45724 R^2 T_c^2}{p_c} \\times \\left[1 + (0.37464 + 1.54226 \\omega - 0.26992 \\omega^2)(1-\\sqrt{\\frac{T}{T_c}})\\right]^2\n",
    "\\end{equation}\n",
    "\n",
    "or\n",
    "\\begin{equation}\n",
    "a_i = \\frac{0.45724 R^2 T_c^2}{p_c} \\times \\alpha(T)\n",
    "\\end{equation}\n",
    "\n",
    "with\n",
    "\n",
    "\\begin{equation}\n",
    "\\alpha\\left(T\\right) = \\left[1 + (0.37464 + 1.54226 \\omega - 0.26992 \\omega^2)(1-\\sqrt{\\frac{T}{T_c}})\\right]^2\n",
    "\\end{equation}\n",
    "\n",
    "\\begin{equation}\n",
    "b_i = \\frac{0.07780 R T_c}{p_c}\n",
    "\\end{equation}"
   ]
  },
  {
   "cell_type": "markdown",
   "metadata": {},
   "source": [
    "**Isobutane** - pure\n",
    "* Properties: $p_{sat}$,$T_c$, $p_c$, $\\omega$\n",
    "* Constants: a, b, $\\alpha(T)$"
   ]
  },
  {
   "cell_type": "code",
   "execution_count": 42,
   "metadata": {
    "collapsed": false
   },
   "outputs": [
    {
     "name": "stdout",
     "output_type": "stream",
     "text": [
      "350.66962756803474 7.268887954158169e-05\n"
     ]
    }
   ],
   "source": [
    "R = 8.314\n",
    "T = 298.15\n",
    "kPatommHg = 760 / 101.325\n",
    "p_sat_but = CP.PropsSI('P','T',T,'Q',0,'Isobutane') / 1000\n",
    "p_crit_but = CP.PropsSI('pcrit','Isobutane') / 1000\n",
    "T_crit_but = CP.PropsSI('Tcrit','Isobutane')\n",
    "w_but = CP.PropsSI('acentric','T',T,'Q',0,'Isobutane')\n",
    "##\n",
    "alpha_but = 1 + (0.37464 + 1.54226 * w_but - 0.26992 * w_but**2) * (1 - np.sqrt(T / T_crit_but))\n",
    "a_but = 0.45724 *( (R * T_crit_but) ** 2 / p_crit_but) * alpha_but**2 / 1000\n",
    "b_but = 0.07780 * R * T_crit_but / p_crit_but / 1000\n",
    "print(p_sat_but, b_but)"
   ]
  },
  {
   "cell_type": "markdown",
   "metadata": {},
   "source": [
    "**Propane** - pure\n",
    "* Properties: $p_{sat}$,$T_c$, $p_c$, $\\omega$\n",
    "* Constants: a, b, $\\alpha(T)$"
   ]
  },
  {
   "cell_type": "code",
   "execution_count": 43,
   "metadata": {
    "collapsed": false
   },
   "outputs": [
    {
     "name": "stdout",
     "output_type": "stream",
     "text": [
      "952.0745233424223 5.627955701637185e-05\n"
     ]
    }
   ],
   "source": [
    "p_sat_prop = CP.PropsSI('P','T',T,'Q',0,'Propane') / 1000\n",
    "p_crit_prop = CP.PropsSI('pcrit','Propane') / 1000\n",
    "T_crit_prop = CP.PropsSI('Tcrit','Propane')\n",
    "w_prop = CP.PropsSI('acentric','T',T,'Q',0,'Propane')\n",
    "##\n",
    "alpha_prop = 1 + (0.37464 + 1.54226 * w_prop - 0.26992 * w_prop**2) * (1 - np.sqrt(T / T_crit_prop))\n",
    "a_prop = 0.45724 *( (R * T_crit_prop) ** 2 / p_crit_prop) * alpha_prop**2 / 1000\n",
    "b_prop = 0.07780 * R * T_crit_prop / p_crit_prop / 1000\n",
    "print(p_sat_prop, b_prop)"
   ]
  },
  {
   "cell_type": "markdown",
   "metadata": {},
   "source": [
    "**Mixture**\n",
    "\n",
    "\\begin{equation}\n",
    "a = \\sum\\limits_j \\sum\\limits_i x_i x_j \\sqrt{(a_i a_j)}\n",
    "\\end{equation}\n",
    "\n",
    "\\begin{equation}\n",
    "b = \\sum\\limits_i x_i b_i\n",
    "\\end{equation}\n",
    "\n",
    "i.e\n",
    "\n",
    "\\begin{equation}\n",
    "p = \\frac{\\left(N_1 + N_2 \\right)RT}{V-N_1 b_1 - N_2 b_2} - \\frac{N_1^2 a_1 + N_1 N_2 \\sqrt{a_1 a_2} + N_2^2 a_2}{V^2+2 \\left(N_1 b_1 + N_2 b_2 \\right)V-\\left(N_1 b_1 + N_2 b_2 \\right)^2}\n",
    "\\end{equation}"
   ]
  },
  {
   "cell_type": "code",
   "execution_count": 44,
   "metadata": {
    "collapsed": false
   },
   "outputs": [],
   "source": [
    "x_molar = np.linspace(0.02,0.98,10)\n",
    "a = x_molar ** 2 * a_prop + \\\n",
    "    x_molar * (1 - x_molar) * np.sqrt(a_prop * a_but) + \\\n",
    "    x_molar * (1 - x_molar) * np.sqrt(a_prop * a_but) +\\\n",
    "    (1 - x_molar) ** 2 * a_but\n",
    "b = x_molar * b_prop + (1 - x_molar) * b_but"
   ]
  },
  {
   "cell_type": "markdown",
   "metadata": {},
   "source": [
    "We are actually interested in finding the following derivative:\n",
    "\n",
    "\\begin{equation}\n",
    "v_i = \\frac{\\partial V}{\\partial N_i}\\bigg|_{T,p,N_{j\\neq i}}\n",
    "\\end{equation}\n",
    "\n",
    "since the fugacity coefficient $\\phi$ is defined as\n",
    "\n",
    "\\begin{equation}\n",
    "\\ln{\\phi_i} = - \\int\\limits_0^{p}\\left(\\frac{v_i}{RT}-\\frac{1}{p}\\right)\\mathrm{d}p\n",
    "\\end{equation}\n",
    "\n",
    "given that the Peng-Robinson equation is an implicit equation for V, that is quite complex. Thanks to math we can employ the inverse derivative rule, which leads to\n",
    "\n",
    "\\begin{equation}\n",
    "\\frac{\\partial V}{\\partial N_i}\\bigg|_{T,p,N_{j\\neq i}} = -\\frac{\\frac{\\partial p}{\\partial N_i}\\bigg|_{T,V,N_{j\\neq i}}}{\\frac{\\partial p}{\\partial V}\\bigg|_{T,N_i}}\n",
    "\\end{equation}\n",
    "\n",
    "\\begin{align}\n",
    "\\frac{\\partial p}{\\partial N_1}\\bigg|_{T,V,N_2} &= \\frac{RT \\left(V + N_2 b_1 - N_2 b_2\\right)}{\\left(V - N_1 b_1 - N_2 b_2\\right)^2} - \\frac{2 N_1 a_1 + N_2\\sqrt{a_1 a_2}}{V^2 + 2 V \\left(N_1 b_1 + N_2 b_2\\right) -\\left(N_1 b_1 + N_2 b_2\\right)^2} +\\\\\n",
    "&\\frac{2\\left(N_1^2 a_1 + N_1 N_2 \\sqrt{a_1 a_2} + N_2^2 a_2\\right)\\left[V b_1 - b_1\\left(N_1 b_1 + N_2 b_2\\right)\\right]}{\\left[V^2 + 2 V \\left(N_1 b_1 + N_2 b_2\\right) -\\left(N_1 b_1 + N_2 b_2\\right)^2\\right]^2}\n",
    "\\end{align}\n",
    "\n",
    "\\begin{equation}\n",
    "{\\frac{\\partial p}{\\partial V}\\bigg|_{T,N_i}} = -\\frac{\\left(N_1 + N_2\\right) RT}{\\left(V -N_1 b_1- N_2 b_2\\right)^2} + \\frac{2\\left(N_1^2 a_1 + N_1 N_2 \\sqrt{a_1 a_2} + N_2^2 a_2\\right)\\left[V + \\left(N_1 b_1 + N_2 b_2\\right)\\right]}{\\left[V^2 + 2 V \\left(N_1 b_1 + N_2 b_2\\right) - \\left(N_1 b_1 + N_2 b_2\\right) \\right]^2}\n",
    "\\end{equation}\n",
    "\n",
    "*--------------------------*\n",
    "\n",
    "\\begin{align}\n",
    "\\frac{\\partial V}{\\partial N_1}\\bigg|_{T,p,N_2} = \\frac{RT \\left(V + N_2 b_1 - N_2 b_2\\right)\\left[V^2 + 2 V \\left(N_1 b_1 + N_2 b_2\\right) -\\left(N_1 b_1 + N_2 b_2\\right)^2\\right]^2 -\\\\\n",
    "\\left(2 N_1 a_1 + N_2\\sqrt{a_1 a_2}\\right)\\left[V^2 + 2 V \\left(N_1 b_1 + N_2 b_2\\right) -\\left(N_1 b_1 + N_2 b_2\\right)^2\\right]\\left(V - N_1 b_1 - N_2 b_2\\right)^2 +\\\\\n",
    "2\\left(N_1^2 a_1 + N_1 N_2 \\sqrt{a_1 a_2} + N_2^2 a_2\\right)\\left[V b_1 - b_1\\left(N_1 b_1 + N_2 b_2\\right)\\right]\\left(V - N_1 b_1 - N_2 b_2\\right)^2}{\\left(N_1 + N_2\\right) RT\\left[V^2 + 2 V \\left(N_1 b_1 + N_2 b_2\\right) - \\left(N_1 b_1 + N_2 b_2\\right) \\right]^2 -\\\\\n",
    "2\\left(N_1^2 a_1 + N_1 N_2 \\sqrt{a_1 a_2} + N_2^2 a_2\\right)\\left[V + \\left(N_1 b_1 + N_2 b_2\\right)\\right]\\left(V -b_1 N_1 - b_2 N_2\\right)^2}\n",
    "\\end{align}\n",
    "\n",
    "*--------------------------*\n",
    "\n",
    "and as a function of the molar fractions\n",
    "\n",
    "\\begin{align}\n",
    "A = \\frac{\\partial V}{\\partial N_1}\\bigg|_{T,p,N_2} = \\frac{RT \\left(v + x_2 b_1 - x_2 b_2\\right)\\left[v^2 + 2 v\\left(x_1 b_1 + x_2 b_2\\right) - \\left(x_1 b_1 + x_2 b_2\\right)^2\\right]^2 -\\\\\n",
    "\\left(2 x_1 a_1 + x_2\\sqrt{a_1 a_2}\\right)\\left[v^2 + 2 v \\left(x_1 b_1 + x_2 b_2\\right) -\\left(x_1 b_1 + x_2 b_2\\right)^2\\right]\\left(v - x_1 b_1 - x_2 b_2\\right)^2 +\\\\\n",
    "2\\left(x_1^2 a_1 + x_1 x_2 \\sqrt{a_1 a_2} + x_2^2 a_2\\right)b_1\\left[v - \\left(x_1 b_1 + x_2 b_2\\right)\\right]^3}   {RT\\left[v^2 + 2 v \\left(x_1 b_1 + x_2 b_2\\right) - \\left(x_1 b_1 + x_2 b_2\\right) \\right]^2 - \\\\2\\left(x_1^2 a_1 + x_1 x_2 \\sqrt{a_1 a_2} + x_2^2 a_2\\right)\\left[v + \\left(x_1 b_1 + x_2 b_2\\right)\\right]\\left(v -b_1 x_1 - b_2 x_2\\right)^2}\n",
    "\\end{align}\n",
    "\n",
    "*--------------------------*\n",
    "\n",
    "*i.e*\n",
    "\n",
    "\\begin{equation}\n",
    "\\ln{\\phi_i} = - \\int\\limits_V^{\\infty}\\left(\\frac{v_i}{RT}-\\frac{1}{p}\\right)\\frac{\\partial p}{\\partial V}\\bigg|_{T,N}\\mathrm{d}V\n",
    "\\end{equation}\n",
    "\n",
    "\\begin{equation}\n",
    "\\ln{\\phi_i} = - \\int\\limits_V^{\\infty}\\left(-\\frac{1}{RT}\\frac{\\partial p}{\\partial N_i}\\bigg|_{T,V,N_{j\\neq i}} - \\frac{1}{p} \\frac{\\partial p}{\\partial V}\\bigg|_{T,N_i}\\right)\\mathrm{d}V\n",
    "\\end{equation}"
   ]
  },
  {
   "cell_type": "markdown",
   "metadata": {},
   "source": [
    "$$A = \\frac{a \\alpha p}{R^2T^2}$$\n",
    "\n",
    "$$B = \\frac{b p}{R T}$$"
   ]
  },
  {
   "cell_type": "code",
   "execution_count": 45,
   "metadata": {
    "collapsed": false
   },
   "outputs": [],
   "source": [
    "phi_but_v = 1\n",
    "phi_prop_v = 1"
   ]
  },
  {
   "cell_type": "code",
   "execution_count": 46,
   "metadata": {
    "collapsed": false
   },
   "outputs": [
    {
     "name": "stdout",
     "output_type": "stream",
     "text": [
      "[ 1.01072509  1.00000509]\n",
      "[ 1.00825046  1.00019795]\n",
      "[ 1.00616215  1.00065204]\n",
      "[ 1.00442822  1.00134453]\n",
      "[ 1.00301959  1.00225457]\n",
      "[ 1.00190975  1.00336307]\n",
      "[ 1.00107447  1.00465253]\n",
      "[ 1.00049159  1.0061069 ]\n",
      "[ 1.00014079  1.00771143]\n",
      "[ 1.00000341  1.00945254]\n"
     ]
    }
   ],
   "source": [
    "def sistema(v):\n",
    "    y, p = v[0], v[1]\n",
    "    return(y * p * phi_prop_v - f_l_prop, \\\n",
    "           (1-y) * p * phi_but_v - f_l_but)\n",
    "guess = (0, 0)    \n",
    "y1,p1 = [], []\n",
    "propane, isobutane = molecule({1:2,2:1}), molecule({1:2,3:1})\n",
    "propane.rql(), isobutane.rql()\n",
    "propane.psi_mod(isobutane,[1,1,1])\n",
    "for x in x_molar:\n",
    "    propane.Gamma(isobutane)\n",
    "    print(propane.y)\n",
    "    f_l_prop = x * propane.y[0] * p_sat_prop\n",
    "    f_l_but = (1-x) * propane.y[1] * p_sat_but\n",
    "    y, p =  opt.fsolve(sistema, guess)\n",
    "    guess = (y, p)\n",
    "    y1.append(y)\n",
    "    p1.append(p)"
   ]
  },
  {
   "cell_type": "markdown",
   "metadata": {},
   "source": [
    "## \\#Datamunging"
   ]
  },
  {
   "cell_type": "code",
   "execution_count": 47,
   "metadata": {
    "collapsed": true
   },
   "outputs": [],
   "source": [
    "# Bubble point\n",
    "pb, xb = [], []\n",
    "pb.append([p_sat_but]), xb.append([0])\n",
    "pb.append([p for p in p1]), xb.append(x_molar)\n",
    "pb.append([p_sat_prop]), xb.append([1])\n",
    "pb = np.array(list([i for j in pb for i in j]))* kPatommHg\n",
    "xb = np.array(list([i for j in xb for i in j]))\n",
    "\n",
    "# Dew point\n",
    "pd, xd = [], []\n",
    "pd.append([p_sat_but]), xd.append([0])\n",
    "pd.append([p for p in p1]), xd.append(y1)\n",
    "pd.append([p_sat_prop]), xd.append([1])\n",
    "pd = np.array(list([i for j in pd for i in j]))* kPatommHg\n",
    "xd = np.array(list([i for j in xd for i in j]))"
   ]
  },
  {
   "cell_type": "markdown",
   "metadata": {},
   "source": [
    "## \\#Dataviz"
   ]
  },
  {
   "cell_type": "code",
   "execution_count": 59,
   "metadata": {
    "collapsed": false
   },
   "outputs": [
    {
     "data": {
      "text/plain": [
       "<matplotlib.text.Text at 0xbeb04e0>"
      ]
     },
     "execution_count": 59,
     "metadata": {},
     "output_type": "execute_result"
    },
    {
     "data": {
      "image/png": "[encoded data removed]",
      "text/plain": [
       "<matplotlib.figure.Figure at 0xbea44a8>"
      ]
     },
     "metadata": {},
     "output_type": "display_data"
    }
   ],
   "source": [
    "fig = plt.figure(figsize=(8,6))\n",
    "fig.text(0.34, 0.45, \"V\", fontsize=20, color=\"k\")\n",
    "fig.text(0.46, 0.55, \"V + L\", fontsize=20, color=\"k\")\n",
    "fig.text(0.66, 0.65, \"L\", fontsize=20, color=\"k\")\n",
    "ax = fig.add_subplot(1,1,1)\n",
    "ax.plot((xb),pb,color='blue')\n",
    "#ax.scatter((1-xb),pb)\n",
    "ax.plot(xd,pd,color='navy')\n",
    "#ax.scatter(1-xd,pd)\n",
    "ax.set_xlim([0,1])\n",
    "#ax.set_ylim([0,8000])\n",
    "#matplotlib.rcParams.update({'font.size': 18, 'text.usetex': True})\n",
    "ax.set_xlabel(r'$x_1$ [-]', fontsize=18)\n",
    "ax.set_ylabel(r'$P$  [mmHg]', fontsize=18)"
   ]
  },
  {
   "cell_type": "code",
   "execution_count": null,
   "metadata": {
    "collapsed": true
   },
   "outputs": [],
   "source": []
  },
  {
   "cell_type": "code",
   "execution_count": 49,
   "metadata": {
    "collapsed": false
   },
   "outputs": [
    {
     "name": "stdout",
     "output_type": "stream",
     "text": [
      "(3.8254, 3.316, -0.27839999999999865) (2.5735, 2.336, -0.3859999999999988)\n"
     ]
    }
   ],
   "source": [
    "T = 307\n",
    "pentano = molecule({1:2,2:3})\n",
    "acetona = molecule({1:1,18:1})\n",
    "print(pentano.rql(),acetona.rql())"
   ]
  },
  {
   "cell_type": "raw",
   "metadata": {},
   "source": [
    "#### pentane-ketone mixture - combinatorial\n",
    "* r,q and l coefficients\n",
    "* $\\phi$ and $\\theta$ factors\n",
    "* $\\gamma^c$ coefficient"
   ]
  },
  {
   "cell_type": "code",
   "execution_count": 50,
   "metadata": {
    "collapsed": false
   },
   "outputs": [
    {
     "name": "stdout",
     "output_type": "stream",
     "text": [
      "0.970557290292 0.97184581423 0.0294427097083 0.0281541857701\n",
      "0.99996355479 -3.64458739694e-05 0.933728533972 -0.0685695318525\n"
     ]
    }
   ],
   "source": [
    "acetona.rql()\n",
    "acetona.phi_theta(pentano)\n",
    "acetona.combinatorial(pentano)\n",
    "print(acetona.phi,acetona.theta,pentano.phi,pentano.theta)\n",
    "print(acetona.gamma,acetona.gamma_c_ln,pentano.gamma,pentano.gamma_c_ln)"
   ]
  },
  {
   "cell_type": "raw",
   "metadata": {},
   "source": [
    "#### residual\n",
    "the $\\gamma^r$ coefficient requires a few factors in order to be computed:\n",
    "* psi"
   ]
  },
  {
   "cell_type": "code",
   "execution_count": 51,
   "metadata": {
    "collapsed": false
   },
   "outputs": [
    {
     "data": {
      "text/plain": [
       "array([[ 1.        ,  1.        ,  0.21186807],\n",
       "       [ 1.        ,  1.        ,  0.21186807],\n",
       "       [ 0.91652483,  0.91652483,  1.        ]])"
      ]
     },
     "execution_count": 51,
     "metadata": {},
     "output_type": "execute_result"
    }
   ],
   "source": [
    "acetona.psi_mod(pentano,[1,1,9])\n",
    "acetona.psi_matrix"
   ]
  },
  {
   "cell_type": "code",
   "execution_count": 52,
   "metadata": {
    "collapsed": false
   },
   "outputs": [
    {
     "name": "stdout",
     "output_type": "stream",
     "text": [
      "[0.49514563106796117, 0.029126213592233035, 0.47572815533980578]\n",
      "[ 0.4  0.6]\n"
     ]
    }
   ],
   "source": [
    "acetona.X_mod(pentano)\n",
    "print(acetona.X)\n",
    "print(acetona.Xi[1])"
   ]
  },
  {
   "cell_type": "code",
   "execution_count": 53,
   "metadata": {
    "collapsed": false
   },
   "outputs": [
    {
     "name": "stdout",
     "output_type": "stream",
     "text": [
      "[ 0.36719307  0.01375446  0.61905247]\n"
     ]
    }
   ],
   "source": [
    "print(acetona.Theta_mod(pentano))"
   ]
  },
  {
   "cell_type": "code",
   "execution_count": 54,
   "metadata": {
    "collapsed": false
   },
   "outputs": [
    {
     "data": {
      "text/plain": [
       "array([ 0.39340538,  0.25051758,  0.15501976])"
      ]
     },
     "execution_count": 54,
     "metadata": {},
     "output_type": "execute_result"
    }
   ],
   "source": [
    "acetona.Gamma_k(pentano)"
   ]
  },
  {
   "cell_type": "code",
   "execution_count": 55,
   "metadata": {
    "collapsed": false
   },
   "outputs": [
    {
     "data": {
      "text/plain": [
       "array([ 0.3630137,  0.6369863])"
      ]
     },
     "execution_count": 55,
     "metadata": {},
     "output_type": "execute_result"
    }
   ],
   "source": [
    "acetona.Theta_mod_i(pentano)[0]"
   ]
  },
  {
   "cell_type": "code",
   "execution_count": 56,
   "metadata": {
    "collapsed": false
   },
   "outputs": [
    {
     "data": {
      "text/plain": [
       "(0.40890193217406967, 0.13891146087738879, 0.0, 0.0)"
      ]
     },
     "execution_count": 56,
     "metadata": {},
     "output_type": "execute_result"
    }
   ],
   "source": [
    "acetona.Gamma_k_i(pentano)"
   ]
  },
  {
   "cell_type": "code",
   "execution_count": 57,
   "metadata": {
    "collapsed": false
   },
   "outputs": [
    {
     "data": {
      "text/plain": [
       "(0.096109567845172966, 1.2518700486356455)"
      ]
     },
     "execution_count": 57,
     "metadata": {},
     "output_type": "execute_result"
    }
   ],
   "source": [
    "acetona.residual(pentano)"
   ]
  },
  {
   "cell_type": "code",
   "execution_count": 58,
   "metadata": {
    "collapsed": false
   },
   "outputs": [],
   "source": [
    "A = acetona.Gamma(pentano)"
   ]
  },
  {
   "cell_type": "code",
   "execution_count": null,
   "metadata": {
    "collapsed": true
   },
   "outputs": [],
   "source": []
  }
 ],
 "metadata": {
  "kernelspec": {
   "display_name": "Python 3",
   "language": "python",
   "name": "python3"
  },
  "language_info": {
   "codemirror_mode": {
    "name": "ipython",
    "version": 3
   },
   "file_extension": ".py",
   "mimetype": "text/x-python",
   "name": "python",
   "nbconvert_exporter": "python",
   "pygments_lexer": "ipython3",
   "version": "3.5.1"
  }
 },
 "nbformat": 4,
 "nbformat_minor": 0
}
