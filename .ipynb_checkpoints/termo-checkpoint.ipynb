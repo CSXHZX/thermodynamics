{
 "cells": [
  {
   "cell_type": "markdown",
   "metadata": {},
   "source": [
    "### Thermodynamics\n",
    "#### Unifac method - Activity coefficients"
   ]
  },
  {
   "cell_type": "code",
   "execution_count": 1,
   "metadata": {
    "collapsed": true
   },
   "outputs": [],
   "source": [
    "import numpy as np\n",
    "import pandas as pd\n",
    "import CoolProp.CoolProp as CP"
   ]
  },
  {
   "cell_type": "code",
   "execution_count": 2,
   "metadata": {
    "collapsed": true
   },
   "outputs": [],
   "source": [
    "groups = { # grupo: {secundário i:[molécula,R,Q],secundário i+1:[molécula,R,Q],etc}\n",
    "    1: {1:['CH3',0.9011,0.848],2:['CH2',0.6744,0.540],3:['CH',0.4469,0.228],4:['C',0.2195,0]},\n",
    "    2: {5:['CH2CH',1.3454,1.176],6:['CHCH',1.1167,0.867],7:['CH2C',1.1173,0.988],8:['CHC',0.8886,0.676],70:['CC',0.6605,0.485]},\n",
    "    3: {9:['ACH',0.5313,0.400],10:['AC',0.3652,0.120]},\n",
    "    4: {11:['ACCH3',1.2663,0.968],12:['ACCH2',1.0396,0.660],13:['ACCH',0.8121,0.348]},\n",
    "    5: {14:['OH',1.000,1.200]},\n",
    "    6: {15:['CH3OH',1.4311,1.432]},\n",
    "    7: {16:['H2O',0.9200,1.400]},\n",
    "    8: {17:['ACOH',0.8952,0.680]},\n",
    "    9: {18:['CH3CO',1.6724,1.488],19:['CH2CO',1.4457,1.180]},\n",
    "    10: {20:['CHO',0.9980,0.948]},\n",
    "    11: {21:['CH3COO',1.9031,1.728],22:['CH2COO',1.6764,1.420]},\n",
    "    12: {23:['HCOO',1.2420,1.188]}\n",
    "}\n",
    "g_groups = {}\n",
    "for i in groups.values():\n",
    "    g_groups.update(i)"
   ]
  },
  {
   "cell_type": "code",
   "execution_count": 102,
   "metadata": {
    "collapsed": false
   },
   "outputs": [],
   "source": [
    "class molecule():\n",
    "    def __init__(self,molGroups):\n",
    "        self.g = molGroups.keys()\n",
    "        self.v = molGroups.values()\n",
    "        \n",
    "    def rql(self):\n",
    "        z,r,q = 10,0,0\n",
    "        \n",
    "        if len(self.g) > 1:\n",
    "            for i,k in self.g,self.v:\n",
    "                r += g_groups[i][1] * k\n",
    "                q += g_groups[i][2] * k\n",
    "        else:\n",
    "            r = g_groups[tuple(self.g)[0]][1] * tuple(self.v)[0]\n",
    "            q = g_groups[tuple(self.g)[0]][2] * tuple(self.v)[0]\n",
    "        self.l = 0.5 * z * (r - q) - (r - 1)\n",
    "        self.r,self.q = r,q\n",
    "        return(self.r,self.q,self.l)\n",
    "    \n",
    "    def phi_theta(self, fluid):\n",
    "        phi,theta = {},{}       \n",
    "        phi[self] = self.r * x / (self.r * x + fluid.r * (1 - x))\n",
    "        phi[fluid] = fluid.r * (1 - x) / (self.r * x + fluid.r * (1 - x))\n",
    "        theta[self] = self.q * x / (self.q * x + fluid.q * (1 - x))\n",
    "        theta[fluid] = fluid.q * (1 - x) / (self.q * x + fluid.q * (1 - x))\n",
    "        self.phi, self.theta = phi[self], theta[self]\n",
    "        fluid.phi, fluid.theta = phi[fluid], theta[fluid]\n",
    "        return(self.phi, self.theta, fluid.phi, fluid.theta)\n",
    "    \n",
    "    def combinatorial(self, fluid):\n",
    "        self.x = x\n",
    "        fluid.x = (1-x)\n",
    "        self.gamma_c_ln = np.log(self.phi / self.x) + 5 * self.q * np.log(self.theta / self.phi) + \\\n",
    "                    self.l - (self.phi / self.x) * ( fluid.x * fluid.l + self.x * self.l )\n",
    "        fluid.gamma_c_ln = np.log(fluid.phi / fluid.x) + 5 * fluid.q * np.log(fluid.theta / fluid.phi) + \\\n",
    "                    fluid.l - (fluid.phi / fluid.x) * ( self.x * self.l + fluid.x * fluid.l )\n",
    "        self.gamma = np.exp(self.gamma_c_ln)\n",
    "        fluid.gamma = np.exp(fluid.gamma_c_ln)\n",
    "        return(self.gamma, self.gamma_c_ln, fluid.gamma, fluid.gamma_c_ln)    \n",
    "        \n",
    "    def psi(self, fluid, pairs):\n",
    "        self.p = tuple([(i,j) for i in pairs for j in pairs])\n",
    "        a,psi = {},{}\n",
    "        for i in self.p:\n",
    "            a[i] = a_mn.iat[i]\n",
    "            psi[i] = np.exp(-a_mn.iat[i] / T)\n",
    "        return(a,psi)"
   ]
  },
  {
   "cell_type": "code",
   "execution_count": 106,
   "metadata": {
    "collapsed": false
   },
   "outputs": [
    {
     "name": "stdout",
     "output_type": "stream",
     "text": [
      "(1.4311, 1.432, -0.43559999999999954) (0.92, 1.4, -2.3199999999999994)\n",
      "0.279998434779\n",
      "0.203640500569\n",
      "[ 0.46249839  0.34127621  0.24475479  0.16890336  0.11045023  0.06671734\n",
      "  0.03549577  0.01495076  0.00354866]\n",
      "0.2\n",
      "0.720001565221\n",
      "0.796359499431\n",
      "0.8\n",
      "1.40674173734\n",
      "1.0294603912\n"
     ]
    },
    {
     "data": {
      "text/plain": [
       "({(5, 5): 0.0, (5, 6): -181.0, (6, 5): 289.60000000000002, (6, 6): 0.0},\n",
       " {(5, 5): 1.0,\n",
       "  (5, 6): 1.7508675419816833,\n",
       "  (6, 5): 0.40812644213450555,\n",
       "  (6, 6): 1.0})"
      ]
     },
     "execution_count": 106,
     "metadata": {},
     "output_type": "execute_result"
    }
   ],
   "source": [
    "x = np.linspace(0.1,0.9,9) \n",
    "T = 323.15\n",
    "methanol = molecule({15:1})\n",
    "water = molecule({16:1})\n",
    "print(methanol.rql(),water.rql())\n",
    "methanol.phi_theta(water)\n",
    "print(methanol.phi[1])\n",
    "print(methanol.theta[1])\n",
    "print(methanol.combinatorial(water)[1])\n",
    "print(x[1])\n",
    "print(water.phi[1])\n",
    "print(water.theta[1])\n",
    "print((1-x)[1])\n",
    "methanol.combinatorial(water)\n",
    "print(methanol.gamma[1])\n",
    "print(water.gamma[1])\n",
    "methanol.psi(water,[5,6])"
   ]
  },
  {
   "cell_type": "code",
   "execution_count": 73,
   "metadata": {
    "collapsed": false
   },
   "outputs": [
    {
     "data": {
      "text/html": [
       "<div>\n",
       "<table border=\"1\" class=\"dataframe\">\n",
       "  <thead>\n",
       "    <tr style=\"text-align: right;\">\n",
       "      <th></th>\n",
       "      <th>1</th>\n",
       "      <th>2</th>\n",
       "      <th>3</th>\n",
       "      <th>4</th>\n",
       "      <th>5</th>\n",
       "      <th>6</th>\n",
       "      <th>7</th>\n",
       "      <th>8</th>\n",
       "      <th>9</th>\n",
       "      <th>10</th>\n",
       "      <th>11</th>\n",
       "      <th>12</th>\n",
       "      <th>13</th>\n",
       "      <th>14</th>\n",
       "      <th>15</th>\n",
       "      <th>16</th>\n",
       "      <th>17</th>\n",
       "      <th>18</th>\n",
       "    </tr>\n",
       "  </thead>\n",
       "  <tbody>\n",
       "    <tr>\n",
       "      <th>1</th>\n",
       "      <td>0.00</td>\n",
       "      <td>8602.000</td>\n",
       "      <td>61.13</td>\n",
       "      <td>76.50</td>\n",
       "      <td>986.5</td>\n",
       "      <td>697.2</td>\n",
       "      <td>1318.0</td>\n",
       "      <td>1333.0</td>\n",
       "      <td>476.40</td>\n",
       "      <td>677.0</td>\n",
       "      <td>232.100</td>\n",
       "      <td>507.0</td>\n",
       "      <td>251.50</td>\n",
       "      <td>391.500</td>\n",
       "      <td>255.70</td>\n",
       "      <td>206.60</td>\n",
       "      <td>920.70</td>\n",
       "      <td>287.800</td>\n",
       "    </tr>\n",
       "    <tr>\n",
       "      <th>2</th>\n",
       "      <td>-35.36</td>\n",
       "      <td>0.000</td>\n",
       "      <td>38.81</td>\n",
       "      <td>74.15</td>\n",
       "      <td>524.1</td>\n",
       "      <td>787.6</td>\n",
       "      <td>270.6</td>\n",
       "      <td>526.1</td>\n",
       "      <td>182.60</td>\n",
       "      <td>448.8</td>\n",
       "      <td>37.850</td>\n",
       "      <td>333.5</td>\n",
       "      <td>214.50</td>\n",
       "      <td>240.900</td>\n",
       "      <td>163.90</td>\n",
       "      <td>61.11</td>\n",
       "      <td>749.30</td>\n",
       "      <td>2811.500</td>\n",
       "    </tr>\n",
       "    <tr>\n",
       "      <th>3</th>\n",
       "      <td>-11.12</td>\n",
       "      <td>3.446</td>\n",
       "      <td>0.00</td>\n",
       "      <td>167.00</td>\n",
       "      <td>636.1</td>\n",
       "      <td>637.4</td>\n",
       "      <td>903.8</td>\n",
       "      <td>1329.0</td>\n",
       "      <td>25.77</td>\n",
       "      <td>347.3</td>\n",
       "      <td>5.994</td>\n",
       "      <td>287.1</td>\n",
       "      <td>32.14</td>\n",
       "      <td>161.700</td>\n",
       "      <td>122.80</td>\n",
       "      <td>9049.00</td>\n",
       "      <td>648.20</td>\n",
       "      <td>-4.449</td>\n",
       "    </tr>\n",
       "    <tr>\n",
       "      <th>4</th>\n",
       "      <td>-69.70</td>\n",
       "      <td>-113.600</td>\n",
       "      <td>-146.80</td>\n",
       "      <td>0.00</td>\n",
       "      <td>803.2</td>\n",
       "      <td>603.3</td>\n",
       "      <td>5695.0</td>\n",
       "      <td>4.9</td>\n",
       "      <td>-52.10</td>\n",
       "      <td>586.8</td>\n",
       "      <td>5688.000</td>\n",
       "      <td>197.8</td>\n",
       "      <td>213.10</td>\n",
       "      <td>19.020</td>\n",
       "      <td>-49.29</td>\n",
       "      <td>23.50</td>\n",
       "      <td>663.20</td>\n",
       "      <td>52.800</td>\n",
       "    </tr>\n",
       "    <tr>\n",
       "      <th>5</th>\n",
       "      <td>156.40</td>\n",
       "      <td>457.000</td>\n",
       "      <td>89.60</td>\n",
       "      <td>25.82</td>\n",
       "      <td>0.0</td>\n",
       "      <td>-137.1</td>\n",
       "      <td>353.5</td>\n",
       "      <td>-259.7</td>\n",
       "      <td>84.00</td>\n",
       "      <td>-203.6</td>\n",
       "      <td>101.100</td>\n",
       "      <td>267.8</td>\n",
       "      <td>28.06</td>\n",
       "      <td>8.642</td>\n",
       "      <td>42.70</td>\n",
       "      <td>-3210.00</td>\n",
       "      <td>-52.39</td>\n",
       "      <td>170.000</td>\n",
       "    </tr>\n",
       "  </tbody>\n",
       "</table>\n",
       "</div>"
      ],
      "text/plain": [
       "        1         2       3       4      5      6       7       8       9  \\\n",
       "1    0.00  8602.000   61.13   76.50  986.5  697.2  1318.0  1333.0  476.40   \n",
       "2  -35.36     0.000   38.81   74.15  524.1  787.6   270.6   526.1  182.60   \n",
       "3  -11.12     3.446    0.00  167.00  636.1  637.4   903.8  1329.0   25.77   \n",
       "4  -69.70  -113.600 -146.80    0.00  803.2  603.3  5695.0     4.9  -52.10   \n",
       "5  156.40   457.000   89.60   25.82    0.0 -137.1   353.5  -259.7   84.00   \n",
       "\n",
       "      10        11     12      13       14      15       16      17        18  \n",
       "1  677.0   232.100  507.0  251.50  391.500  255.70   206.60  920.70   287.800  \n",
       "2  448.8    37.850  333.5  214.50  240.900  163.90    61.11  749.30  2811.500  \n",
       "3  347.3     5.994  287.1   32.14  161.700  122.80  9049.00  648.20    -4.449  \n",
       "4  586.8  5688.000  197.8  213.10   19.020  -49.29    23.50  663.20    52.800  \n",
       "5 -203.6   101.100  267.8   28.06    8.642   42.70 -3210.00  -52.39   170.000  "
      ]
     },
     "execution_count": 73,
     "metadata": {},
     "output_type": "execute_result"
    }
   ],
   "source": [
    "a_mn = pd.read_csv('a-mn.csv', sep=';', index_col=0)\n",
    "a_mn.head()"
   ]
  },
  {
   "cell_type": "code",
   "execution_count": null,
   "metadata": {
    "collapsed": true
   },
   "outputs": [],
   "source": []
  }
 ],
 "metadata": {
  "kernelspec": {
   "display_name": "Python 3",
   "language": "python",
   "name": "python3"
  },
  "language_info": {
   "codemirror_mode": {
    "name": "ipython",
    "version": 3
   },
   "file_extension": ".py",
   "mimetype": "text/x-python",
   "name": "python",
   "nbconvert_exporter": "python",
   "pygments_lexer": "ipython3",
   "version": "3.5.1"
  }
 },
 "nbformat": 4,
 "nbformat_minor": 0
}
