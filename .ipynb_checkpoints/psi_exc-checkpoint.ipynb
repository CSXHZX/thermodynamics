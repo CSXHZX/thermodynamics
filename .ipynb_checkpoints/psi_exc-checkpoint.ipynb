{
 "cells": [
  {
   "cell_type": "code",
   "execution_count": 25,
   "metadata": {
    "collapsed": true
   },
   "outputs": [],
   "source": [
    "import numpy as np\n",
    "import scipy.optimize as opt\n",
    "from scipy.integrate import quad\n",
    "import CoolProp.CoolProp as CP\n",
    "import matplotlib.pyplot as plt\n",
    "%matplotlib inline"
   ]
  },
  {
   "cell_type": "code",
   "execution_count": 2,
   "metadata": {
    "collapsed": false
   },
   "outputs": [],
   "source": [
    "R = 8.314\n",
    "#T = 373.15\n",
    "#M = CP.PropsSI('molarmass','water')\n",
    "#Tc = CP.PropsSI('Tcrit','water')\n",
    "#pc = CP.PropsSI('Pcrit','water')\n",
    "#omega = CP.PropsSI('acentric','water')\n",
    "#b = 0.07780 * (R/M) * Tc / pc\n",
    "#alpha = 1 + (0.37464 + 1.54226 * omega - 0.26992 * omega**2) * (1 - np.sqrt(T / Tc))\n",
    "#a = 0.45724 *( (R * Tc/M) ** 2) * alpha ** 2 / pc"
   ]
  },
  {
   "cell_type": "code",
   "execution_count": 54,
   "metadata": {
    "collapsed": false
   },
   "outputs": [],
   "source": [
    "class pr_eos():\n",
    "    def __init__(self,fluid,T):\n",
    "        self.fluid = fluid\n",
    "        self.T = T\n",
    "    \n",
    "    def pr_coefs(self):\n",
    "        M = CP.PropsSI('molarmass',self.fluid)\n",
    "        Tc = CP.PropsSI('Tcrit',self.fluid)\n",
    "        pc = CP.PropsSI('Pcrit',self.fluid)        \n",
    "        omega = CP.PropsSI('acentric',self.fluid)\n",
    "        self.b = 0.07780 * (R/M) * Tc / pc\n",
    "        alpha = 1 + (0.37464 + 1.54226 * omega - \\\n",
    "                     0.26992 * omega**2) * (1 - np.sqrt(self.T / Tc))\n",
    "        self.a = 0.45724 *( (R * Tc/M) ** 2) * alpha ** 2 / pc   \n",
    "        self.M = M\n",
    "        return(self.a,self.b,self.M,self.T)    \n",
    "    \n",
    "    def p_sat(self,guess):\n",
    "        p_sat = opt.fsolve(maxwell,guess)\n",
    "        return(p_sat)\n",
    "\n",
    "    \n",
    "def vols(p_guess):\n",
    "    a,b,M,T = pr.pr_coefs()\n",
    "    Rw = R/M\n",
    "    p = p_guess\n",
    "    A_mult = p / (Rw * T) ** 2\n",
    "    B_mult = p / (Rw * T)\n",
    "    a3 = 1\n",
    "    a2 = 1 - B_mult*b\n",
    "    a1 = A_mult * a - 3 * (B_mult * b) ** 2 - 2 * B_mult * b\n",
    "    a0 = A_mult * a * B_mult * b - (B_mult * b) ** 2 - (B_mult * b) ** 3\n",
    "    coeff = [a3,-a2,a1,-a0]\n",
    "    vol = np.roots(coeff) * Rw * T / p_guess\n",
    "    v_l, v_v = np.min(vol), np.max(vol)\n",
    "    return(v_l, v_v,a,b,M,T)\n",
    "\n",
    "def maxwell(guess):\n",
    "    v_l, v_v,a,b,M,T = vols(guess)\n",
    "    integ = quad(lambda v: ((R/M) * T / (v - b) - a / (v**2 + 2*v*b - b**2)),v_l,v_v)\n",
    "    return(integ[0] - guess*(v_v - v_l))"
   ]
  },
  {
   "cell_type": "code",
   "execution_count": 73,
   "metadata": {
    "collapsed": false
   },
   "outputs": [
    {
     "name": "stdout",
     "output_type": "stream",
     "text": [
      "0.540878015009\n",
      "0.656780446796\n",
      "0.772682878584\n"
     ]
    },
    {
     "data": {
      "image/png": "[encoded data removed]",
      "text/plain": [
       "<matplotlib.figure.Figure at 0xb038d30>"
      ]
     },
     "metadata": {},
     "output_type": "display_data"
    }
   ],
   "source": [
    "for temp in np.linspace(350,500,3):\n",
    "    print(temp/CP.PropsSI('Tcrit','water'))\n",
    "    pr = pr_eos('water',temp)\n",
    "    psat = pr.p_sat(101325)\n",
    "    v_l, v_v,a,b,M,T = vols(psat)\n",
    "    rhoc = CP.PropsSI('rhocrit','water')\n",
    "    rho_range = np.linspace(1/v_l,1/v_v,20)\n",
    "    psi = []\n",
    "    for k in rho_range:\n",
    "        psi.append(k*quad(lambda rho: (rho*(R/M)*T/(1 - rho*b) - a * (rho / M)**2 /\\\n",
    "             (1 + 2 * rho * b - (rho * b)**2 ))/rho**2 - psat/rho**2,1/v_l,k)[0])\n",
    "    plt.plot(rho_range/rhoc,psi)"
   ]
  },
  {
   "cell_type": "code",
   "execution_count": null,
   "metadata": {
    "collapsed": true
   },
   "outputs": [],
   "source": []
  }
 ],
 "metadata": {
  "kernelspec": {
   "display_name": "Python 3",
   "language": "python",
   "name": "python3"
  },
  "language_info": {
   "codemirror_mode": {
    "name": "ipython",
    "version": 3
   },
   "file_extension": ".py",
   "mimetype": "text/x-python",
   "name": "python",
   "nbconvert_exporter": "python",
   "pygments_lexer": "ipython3",
   "version": "3.5.2"
  }
 },
 "nbformat": 4,
 "nbformat_minor": 0
}
