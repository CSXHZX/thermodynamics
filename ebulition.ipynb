{
 "cells": [
  {
   "cell_type": "code",
   "execution_count": 94,
   "metadata": {
    "collapsed": true
   },
   "outputs": [],
   "source": [
    "import numpy as np\n",
    "import matplotlib.pyplot as plt\n",
    "import CoolProp.CoolProp as CP\n",
    "import scipy.optimize as opt\n",
    "%matplotlib inline"
   ]
  },
  {
   "cell_type": "code",
   "execution_count": 285,
   "metadata": {
    "collapsed": false
   },
   "outputs": [
    {
     "name": "stdout",
     "output_type": "stream",
     "text": [
      "-12.337866573956205 15 4136.100000000001 385.12 0.0017699115044247783 0.048354730301491726 0.6768335413015263 0.39364159931402243\n"
     ]
    }
   ],
   "source": [
    "P = 200e3\n",
    "T_sat = CP.PropsSI('T','P',P,'Q',0,'R12')\n",
    "p_crit = CP.PropsSI('pcrit','R12') / 1000\n",
    "T_crit = CP.PropsSI('Tcrit','R12')\n",
    "v_crit = CP.PropsSI('rhocrit','R12')\n",
    "sigma = CP.PropsSI('I','P',P,'Q',0,'R12')\n",
    "p_r = P/(p_crit*1e3)\n",
    "T_r = T_sat/T_crit\n",
    "v_r = v_crit / CP.PropsSI('D','P',P,'Q',0,'R12')\n",
    "hlv = CP.PropsSI('H','P',P,'Q',1,'R12') - CP.PropsSI('H','P',P,'Q',0,'R12')\n",
    "rhov = CP.PropsSI('D','P',P,'Q',1,'R12')\n",
    "rhol = CP.PropsSI('D','P',P,'Q',0,'R12')\n",
    "cp = CP.PropsSI('C','P',P,'Q',0,'R12')\n",
    "kl = CP.PropsSI('L','P',P,'Q',0,'R12')\n",
    "\n",
    "print(T_sat-273,15,p_crit,T_crit,1/v_crit,p_r,T_r,v_r)"
   ]
  },
  {
   "cell_type": "code",
   "execution_count": 156,
   "metadata": {
    "collapsed": false
   },
   "outputs": [
    {
     "name": "stdout",
     "output_type": "stream",
     "text": [
      "[ 0.66712116] [ 0.84432443] [ 173.23466639]\n"
     ]
    }
   ],
   "source": [
    "def prvr_vdw(vr):\n",
    "    return(p_r - (3*vr-2)/vr**3)\n",
    "v_r = opt.fsolve(prvr_vdw, 0.01)\n",
    "T_n =(3*v_r-1)**2 / (4*(v_r**3))\n",
    "dT = T_n*T_crit - T_sat\n",
    "print(v_r, T_n, dT)"
   ]
  },
  {
   "cell_type": "code",
   "execution_count": 171,
   "metadata": {
    "collapsed": false
   },
   "outputs": [
    {
     "name": "stdout",
     "output_type": "stream",
     "text": [
      "[ 0.6670842] [ 0.84427778] [ 173.20448153]\n"
     ]
    }
   ],
   "source": [
    "def prvr_ber(vr):\n",
    "    return(p_r - 2/np.sqrt(vr) * (2/vr - \n",
    "                        3/(3*vr-1)))\n",
    "v_r = opt.fsolve(prvr_ber, .5)\n",
    "T_n =(3*v_r-1)**2 / (4*(v_r**3))\n",
    "dT = T_n*T_crit - T_sat\n",
    "print(v_r, T_n, dT)"
   ]
  },
  {
   "cell_type": "code",
   "execution_count": 207,
   "metadata": {
    "collapsed": false
   },
   "outputs": [
    {
     "data": {
      "text/plain": [
       "1.018956773403474"
      ]
     },
     "execution_count": 207,
     "metadata": {},
     "output_type": "execute_result"
    }
   ],
   "source": [
    "r = 32e-6\n",
    "dTmin = 2 * sigma * T_sat / (r*rhov * hlv)\n",
    "dTmin"
   ]
  },
  {
   "cell_type": "code",
   "execution_count": 222,
   "metadata": {
    "collapsed": false
   },
   "outputs": [
    {
     "data": {
      "text/plain": [
       "2967542.744863428"
      ]
     },
     "execution_count": 222,
     "metadata": {},
     "output_type": "execute_result"
    }
   ],
   "source": [
    "(np.pi / 24) * rhov * hlv * (sigma * (rhol-rhov)*9.81 / (rhov)**2) ** (1/4)"
   ]
  },
  {
   "cell_type": "code",
   "execution_count": 253,
   "metadata": {
    "collapsed": false
   },
   "outputs": [
    {
     "data": {
      "text/plain": [
       "(2260215.632806822, 226021.56328068223)"
      ]
     },
     "execution_count": 253,
     "metadata": {},
     "output_type": "execute_result"
    }
   ],
   "source": [
    "# kutateladze e ivery\n",
    "qbase = 0.16 * rhov * hlv * (sigma * (rhol-rhov)*9.81 / (rhov)**2) ** (1/4)\n",
    "Ja = cp * 10 / hlv\n",
    "rr = rhol/rhov\n",
    "qbase * (1 + 0.065 * rr**0.8 * Ja),qbase * (1 + 0.065 * rr**0.8 * Ja)/10"
   ]
  },
  {
   "cell_type": "code",
   "execution_count": 257,
   "metadata": {
    "collapsed": false
   },
   "outputs": [
    {
     "data": {
      "text/plain": [
       "(2378243.1276864726, 237824.31276864727)"
      ]
     },
     "execution_count": 257,
     "metadata": {},
     "output_type": "execute_result"
    }
   ],
   "source": [
    "# zuber\n",
    "prandtl = (kl * cp * rhol) ** (1/2)\n",
    "A = ((rhol-rhov)*9.81/sigma)**(1/4)\n",
    "B = rhov * hlv * (sigma * (rhol-rhov)*9.81 / (rhov)**2) ** (1/8)\n",
    "csi = 5.32 * A * prandtl * 10 / B\n",
    "qbase * (1 + csi), qbase * (1 + csi)/10"
   ]
  },
  {
   "cell_type": "code",
   "execution_count": 280,
   "metadata": {
    "collapsed": false
   },
   "outputs": [
    {
     "data": {
      "text/plain": [
       "<matplotlib.text.Text at 0x7fee472146a0>"
      ]
     },
     "execution_count": 280,
     "metadata": {},
     "output_type": "execute_result"
    },
    {
     "data": {
      "image/png": "[encoded data removed]",
      "text/plain": [
       "<matplotlib.figure.Figure at 0x7fee47215dd8>"
      ]
     },
     "metadata": {},
     "output_type": "display_data"
    }
   ],
   "source": [
    "pp = np.linspace(101325,p_crit*1e3-100,1000)\n",
    "rcrit = []\n",
    "for p in pp:\n",
    "    T_sat = CP.PropsSI('T','P',p,'Q',0,'water')\n",
    "    sigma = CP.PropsSI('I','P',p,'Q',0,'water')\n",
    "    hlv = CP.PropsSI('H','P',p,'Q',1,'water') - CP.PropsSI('H','P',p,'Q',0,'water')\n",
    "    rhov = CP.PropsSI('D','P',p,'Q',1,'water')\n",
    "    rhol = CP.PropsSI('D','P',p,'Q',0,'water')\n",
    "    rcrit.append(2 * sigma * T_sat * (1/rhov-1/rhol)/\n",
    "                hlv*10)\n",
    "rcrit = np.array(rcrit)\n",
    "fig1 = plt.figure(figsize=(6*np.sqrt(2),6))\n",
    "ax1 = fig1.add_subplot(1,1,1)\n",
    "ax1.semilogx(pp*1e-5,rcrit*1e3)\n",
    "ax1.set_ylabel(r'$r^*$ [mm]', fontsize=15)\n",
    "ax1.set_xlabel(r'$p$  [bar]', fontsize=15)"
   ]
  },
  {
   "cell_type": "code",
   "execution_count": 289,
   "metadata": {
    "collapsed": false
   },
   "outputs": [
    {
     "data": {
      "text/plain": [
       "0.0023590493135600267"
      ]
     },
     "execution_count": 289,
     "metadata": {},
     "output_type": "execute_result"
    }
   ],
   "source": [
    "ssqrt = np.sqrt(1 - 12.8 * sigma * T_sat / (rhov * hlv * 5e-6 * (10+273.15-T_sat)))\n",
    "(5e-6/4) * (1  + ssqrt)*1e3"
   ]
  },
  {
   "cell_type": "code",
   "execution_count": null,
   "metadata": {
    "collapsed": true
   },
   "outputs": [],
   "source": []
  }
 ],
 "metadata": {
  "kernelspec": {
   "display_name": "Python 3",
   "language": "python",
   "name": "python3"
  },
  "language_info": {
   "codemirror_mode": {
    "name": "ipython",
    "version": 3
   },
   "file_extension": ".py",
   "mimetype": "text/x-python",
   "name": "python",
   "nbconvert_exporter": "python",
   "pygments_lexer": "ipython3",
   "version": "3.5.2"
  }
 },
 "nbformat": 4,
 "nbformat_minor": 0
}
