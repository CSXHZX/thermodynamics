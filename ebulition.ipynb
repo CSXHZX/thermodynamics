{
 "cells": [
  {
   "cell_type": "code",
   "execution_count": 1,
   "metadata": {
    "collapsed": true
   },
   "outputs": [],
   "source": [
    "import numpy as np\n",
    "import matplotlib.pyplot as plt\n",
    "import CoolProp.CoolProp as CP\n",
    "import scipy.optimize as opt\n",
    "%matplotlib inline"
   ]
  },
  {
   "cell_type": "code",
   "execution_count": 11,
   "metadata": {
    "collapsed": false
   },
   "outputs": [
    {
     "name": "stdout",
     "output_type": "stream",
     "text": [
      "-12.337866573956205 15 22064.0 385.12 0.0017699115044247783 0.009064539521392313 0.6768335413015263 0.39364159931402243\n"
     ]
    }
   ],
   "source": [
    "P = 200e3\n",
    "T_sat = CP.PropsSI('T','P',P,'Q',0,'R12')\n",
    "p_crit = CP.PropsSI('pcrit','water') / 1000\n",
    "T_crit = CP.PropsSI('Tcrit','R12')\n",
    "v_crit = CP.PropsSI('rhocrit','R12')\n",
    "sigma = CP.PropsSI('I','P',P,'Q',0,'R12')\n",
    "p_r = P/(p_crit*1e3)\n",
    "T_r = T_sat/T_crit\n",
    "v_r = v_crit / CP.PropsSI('D','P',P,'Q',0,'R12')\n",
    "hlv = CP.PropsSI('H','P',P,'Q',1,'R12') - CP.PropsSI('H','P',P,'Q',0,'R12')\n",
    "rhov = CP.PropsSI('D','P',P,'Q',1,'R12')\n",
    "rhol = CP.PropsSI('D','P',P,'Q',0,'R12')\n",
    "cp = CP.PropsSI('C','P',P,'Q',0,'R12')\n",
    "kl = CP.PropsSI('L','P',P,'Q',0,'R12')\n",
    "\n",
    "print(T_sat-273,15,p_crit,T_crit,1/v_crit,p_r,T_r,v_r)"
   ]
  },
  {
   "cell_type": "code",
   "execution_count": 156,
   "metadata": {
    "collapsed": false
   },
   "outputs": [
    {
     "name": "stdout",
     "output_type": "stream",
     "text": [
      "[ 0.66712116] [ 0.84432443] [ 173.23466639]\n"
     ]
    }
   ],
   "source": [
    "def prvr_vdw(vr):\n",
    "    return(p_r - (3*vr-2)/vr**3)\n",
    "v_r = opt.fsolve(prvr_vdw, 0.01)\n",
    "T_n =(3*v_r-1)**2 / (4*(v_r**3))\n",
    "dT = T_n*T_crit - T_sat\n",
    "print(v_r, T_n, dT)"
   ]
  },
  {
   "cell_type": "code",
   "execution_count": 171,
   "metadata": {
    "collapsed": false
   },
   "outputs": [
    {
     "name": "stdout",
     "output_type": "stream",
     "text": [
      "[ 0.6670842] [ 0.84427778] [ 173.20448153]\n"
     ]
    }
   ],
   "source": [
    "def prvr_ber(vr):\n",
    "    return(p_r - 2/np.sqrt(vr) * (2/vr - \n",
    "                        3/(3*vr-1)))\n",
    "v_r = opt.fsolve(prvr_ber, .5)\n",
    "T_n =(3*v_r-1)**2 / (4*(v_r**3))\n",
    "dT = T_n*T_crit - T_sat\n",
    "print(v_r, T_n, dT)"
   ]
  },
  {
   "cell_type": "code",
   "execution_count": 207,
   "metadata": {
    "collapsed": false
   },
   "outputs": [
    {
     "data": {
      "text/plain": [
       "1.018956773403474"
      ]
     },
     "execution_count": 207,
     "metadata": {},
     "output_type": "execute_result"
    }
   ],
   "source": [
    "r = 32e-6\n",
    "dTmin = 2 * sigma * T_sat / (r*rhov * hlv)\n",
    "dTmin"
   ]
  },
  {
   "cell_type": "code",
   "execution_count": 222,
   "metadata": {
    "collapsed": false
   },
   "outputs": [
    {
     "data": {
      "text/plain": [
       "2967542.744863428"
      ]
     },
     "execution_count": 222,
     "metadata": {},
     "output_type": "execute_result"
    }
   ],
   "source": [
    "(np.pi / 24) * rhov * hlv * (sigma * (rhol-rhov)*9.81 / (rhov)**2) ** (1/4)"
   ]
  },
  {
   "cell_type": "code",
   "execution_count": 253,
   "metadata": {
    "collapsed": false
   },
   "outputs": [
    {
     "data": {
      "text/plain": [
       "(2260215.632806822, 226021.56328068223)"
      ]
     },
     "execution_count": 253,
     "metadata": {},
     "output_type": "execute_result"
    }
   ],
   "source": [
    "# kutateladze e ivery\n",
    "qbase = 0.16 * rhov * hlv * (sigma * (rhol-rhov)*9.81 / (rhov)**2) ** (1/4)\n",
    "Ja = cp * 10 / hlv\n",
    "rr = rhol/rhov\n",
    "qbase * (1 + 0.065 * rr**0.8 * Ja),qbase * (1 + 0.065 * rr**0.8 * Ja)/10"
   ]
  },
  {
   "cell_type": "code",
   "execution_count": 257,
   "metadata": {
    "collapsed": false
   },
   "outputs": [
    {
     "data": {
      "text/plain": [
       "(2378243.1276864726, 237824.31276864727)"
      ]
     },
     "execution_count": 257,
     "metadata": {},
     "output_type": "execute_result"
    }
   ],
   "source": [
    "# zuber\n",
    "prandtl = (kl * cp * rhol) ** (1/2)\n",
    "A = ((rhol-rhov)*9.81/sigma)**(1/4)\n",
    "B = rhov * hlv * (sigma * (rhol-rhov)*9.81 / (rhov)**2) ** (1/8)\n",
    "csi = 5.32 * A * prandtl * 10 / B\n",
    "qbase * (1 + csi), qbase * (1 + csi)/10"
   ]
  },
  {
   "cell_type": "code",
   "execution_count": 280,
   "metadata": {
    "collapsed": false
   },
   "outputs": [
    {
     "data": {
      "text/plain": [
       "<matplotlib.text.Text at 0x7fee472146a0>"
      ]
     },
     "execution_count": 280,
     "metadata": {},
     "output_type": "execute_result"
    },
    {
     "data": {
      "image/png": "[encoded data removed]",
      "text/plain": [
       "<matplotlib.figure.Figure at 0x7fee47215dd8>"
      ]
     },
     "metadata": {},
     "output_type": "display_data"
    }
   ],
   "source": [
    "pp = np.linspace(101325,p_crit*1e3-100,1000)\n",
    "rcrit = []\n",
    "for p in pp:\n",
    "    T_sat = CP.PropsSI('T','P',p,'Q',0,'water')\n",
    "    sigma = CP.PropsSI('I','P',p,'Q',0,'water')\n",
    "    hlv = CP.PropsSI('H','P',p,'Q',1,'water') - CP.PropsSI('H','P',p,'Q',0,'water')\n",
    "    rhov = CP.PropsSI('D','P',p,'Q',1,'water')\n",
    "    rhol = CP.PropsSI('D','P',p,'Q',0,'water')\n",
    "    rcrit.append(2 * sigma * T_sat * (1/rhov-1/rhol)/\n",
    "                hlv*10)\n",
    "rcrit = np.array(rcrit)\n",
    "fig1 = plt.figure(figsize=(6*np.sqrt(2),6))\n",
    "ax1 = fig1.add_subplot(1,1,1)\n",
    "ax1.semilogx(pp*1e-5,rcrit*1e3)\n",
    "ax1.set_ylabel(r'$r^*$ [mm]', fontsize=15)\n",
    "ax1.set_xlabel(r'$p$  [bar]', fontsize=15)"
   ]
  },
  {
   "cell_type": "code",
   "execution_count": 289,
   "metadata": {
    "collapsed": false
   },
   "outputs": [
    {
     "data": {
      "text/plain": [
       "0.0023590493135600267"
      ]
     },
     "execution_count": 289,
     "metadata": {},
     "output_type": "execute_result"
    }
   ],
   "source": [
    "ssqrt = np.sqrt(1 - 12.8 * sigma * T_sat / (rhov * hlv * 5e-6 * (10+273.15-T_sat)))\n",
    "(5e-6/4) * (1  + ssqrt)*1e3"
   ]
  },
  {
   "cell_type": "code",
   "execution_count": 35,
   "metadata": {
    "collapsed": false
   },
   "outputs": [
    {
     "name": "stderr",
     "output_type": "stream",
     "text": [
      "/home/julionaojulho/.local/lib/python3.5/site-packages/ipykernel/__main__.py:9: RuntimeWarning: invalid value encountered in sqrt\n"
     ]
    },
    {
     "data": {
      "text/plain": [
       "[None, None]"
      ]
     },
     "execution_count": 35,
     "metadata": {},
     "output_type": "execute_result"
    },
    {
     "name": "stderr",
     "output_type": "stream",
     "text": [
      "/usr/lib/python3/dist-packages/matplotlib/scale.py:93: RuntimeWarning: invalid value encountered in less_equal\n",
      "  mask = a <= 0.0\n"
     ]
    },
    {
     "data": {
      "image/png": "[encoded data removed]",
      "text/plain": [
       "<matplotlib.figure.Figure at 0x7f08bacee390>"
      ]
     },
     "metadata": {},
     "output_type": "display_data"
    }
   ],
   "source": [
    "pp = np.linspace(101325,p_crit*1e3-100,1000)\n",
    "rmin, rmax = [],[]\n",
    "for p in pp:\n",
    "    T_sat = CP.PropsSI('T','P',p,'Q',0,'water')\n",
    "    sigma = CP.PropsSI('I','P',p,'Q',0,'water')\n",
    "    hlv = CP.PropsSI('H','P',p,'Q',1,'water') - CP.PropsSI('H','P',p,'Q',0,'water')\n",
    "    rhov = CP.PropsSI('D','P',p,'Q',1,'water')\n",
    "    rhol = CP.PropsSI('D','P',p,'Q',0,'water')\n",
    "    ssqrt = np.sqrt(1 - 12.8 * sigma * T_sat / (rhov * hlv * 3e-6 * (15)))\n",
    "    rmin.append((1-ssqrt)*3e-6/4)\n",
    "    rmax.append((1+ssqrt)*3e-6/4)\n",
    "    \n",
    "rmin = np.array(rmin)\n",
    "rmax = np.array(rmax)\n",
    "fig1 = plt.figure(figsize=(6*np.sqrt(2),6))\n",
    "ax1 = fig1.add_subplot(1,1,1)\n",
    "ax1.semilogy(pp*1e-5,rmin*1e3,'k--',label=r'$r_{min}$')\n",
    "ax1.semilogy(pp*1e-5,rmax*1e3,color='black',label=r'$r_{max}$')\n",
    "ax1.set_ylabel('r [mm]', fontsize=15)\n",
    "ax1.set_xlabel('p [bar]', fontsize=15)\n",
    "l = ax1.legend(loc='best')\n",
    "plt.setp(plt.gca().get_legend().get_texts(), fontsize='16') "
   ]
  },
  {
   "cell_type": "code",
   "execution_count": 73,
   "metadata": {
    "collapsed": false
   },
   "outputs": [
    {
     "name": "stderr",
     "output_type": "stream",
     "text": [
      "/home/julionaojulho/.local/lib/python3.5/site-packages/ipykernel/__main__.py:9: RuntimeWarning: invalid value encountered in sqrt\n"
     ]
    },
    {
     "name": "stdout",
     "output_type": "stream",
     "text": [
      "-0.541619723179 0.293351924536 16.716147888701048\n",
      "-0.540946322506 0.292622923832 16.709307633171203\n",
      "-0.540272921832 0.291894830065 16.702470592908\n",
      "-0.539599521159 0.291167643235 16.695636766151196\n",
      "-0.538926120485 0.290441363341 16.68880615126006\n",
      "-0.538252719812 0.289715990385 16.681978746515394\n",
      "-0.537579319139 0.288991524365 16.675154550239316\n",
      "-0.536905918465 0.288267965283 16.66833356069459\n",
      "-0.536232517792 0.287545313137 16.661515776185585\n",
      "-0.535559117118 0.286823567929 16.654701195075898\n",
      "-0.534885716445 0.286102729657 16.647889815612366\n",
      "-0.534212315772 0.285382798322 16.641081636121555\n",
      "-0.533538915098 0.284663773924 16.634276654911268\n",
      "-0.532865514425 0.283945656463 16.62747487029027\n",
      "-0.532192113751 0.283228445939 16.6206762805687\n",
      "-0.531518713078 0.282512142352 16.613880884056762\n",
      "-0.530845312405 0.281796745702 16.60708867904722\n",
      "-0.530171911731 0.281082255989 16.6002996639109\n",
      "-0.529498511058 0.280368673212 16.59351383688371\n",
      "-0.528825110384 0.279655997373 16.586731196358574\n",
      "-0.528151709711 0.278944228471 16.57995174059236\n",
      "-0.527478309038 0.278233366505 16.57317546792168\n",
      "-0.526804908364 0.277523411477 16.566402376663923\n",
      "-0.526131507691 0.276814363385 16.55963246513768\n",
      "-0.525458107017 0.27610622223 16.552865731663086\n",
      "-0.524784706344 0.275398988012 16.54610217456041\n",
      "-0.524111305671 0.274692660732 16.539341792151713\n",
      "-0.523437904997 0.273987240388 16.532584582758442\n",
      "-0.522764504324 0.273282726981 16.525830544705286\n",
      "-0.52209110365 0.272579120511 16.519079676316405\n",
      "-0.521417702977 0.271876420978 16.51233197591757\n",
      "-0.520744302304 0.271174628382 16.505587441815603\n",
      "-0.52007090163 0.270473742722 16.49884607239654\n",
      "-0.519397500957 0.269773764 16.492107865930265\n",
      "-0.518724100283 0.269074692215 16.485372820765928\n",
      "-0.51805069961 0.268376527366 16.478640935233862\n",
      "-0.517377298937 0.267679269455 16.471912207665557\n",
      "-0.516703898263 0.26698291848 16.465186636373822\n",
      "-0.51603049759 0.266287474443 16.458464219750407\n",
      "-0.515357096916 0.265592937342 16.45174495607111\n",
      "-0.514683696243 0.264899307178 16.445028843691095\n",
      "-0.51401029557 0.264206583951 16.438315880945957\n",
      "-0.513336894896 0.263514767662 16.43160606617417\n",
      "-0.512663494223 0.262823858309 16.42489939771283\n",
      "-0.511990093549 0.262133855893 16.41819587390164\n",
      "-0.511316692876 0.261444760414 16.41149549308052\n",
      "-0.510643292203 0.260756571871 16.4047982535907\n",
      "-0.509969891529 0.260069290266 16.398104153774177\n",
      "-0.509296490856 0.259382915598 16.391413191974294\n",
      "-0.508623090182 0.258697447867 16.384725366515404\n",
      "-0.507949689509 0.258012887072 16.378040675781534\n",
      "-0.507276288836 0.257329233215 16.37135911811842\n",
      "-0.506602888162 0.256646486294 16.36468069183438\n",
      "-0.505929487489 0.255964646311 16.358005395296807\n",
      "-0.505256086815 0.255283713264 16.351333226835006\n",
      "-0.504582686142 0.254603687154 16.34466418483774\n",
      "-0.503909285469 0.253924567981 16.337998267655674\n",
      "-0.503235884795 0.253246355746 16.331335473601914\n",
      "-0.502562484122 0.252569050447 16.324675801028803\n",
      "-0.501889083448 0.251892652085 16.318019248329062\n",
      "-0.501215682775 0.25121716066 16.311365813857627\n",
      "-0.500542282102 0.250542576171 16.304715495930893\n",
      "-0.499868881428 0.24986889862 16.298068292925187\n",
      "-0.499195480755 0.249196128006 16.291424203197543\n",
      "-0.498522080081 0.248524264329 16.284783225106796\n",
      "-0.497848679408 0.247853307588 16.278145357012352\n",
      "-0.497175278735 0.247183257785 16.271510597274315\n",
      "-0.496501878061 0.246514114918 16.264878944254615\n",
      "-0.495828477388 0.245845878989 16.258250396315255\n",
      "-0.495155076714 0.245178549996 16.25162495180021\n",
      "-0.494481676041 0.24451212794 16.24500260913162\n",
      "-0.493808275368 0.243846612821 16.23838336659732\n",
      "-0.493134874694 0.24318200464 16.231767222621343\n",
      "-0.492461474021 0.242518303395 16.225154175571\n",
      "-0.491788073347 0.241855509087 16.218544223775886\n",
      "-0.491114672674 0.241193621716 16.211937365604257\n",
      "-0.490441272001 0.240532641281 16.205333599484778\n",
      "-0.489767871327 0.239872567784 16.198732923729608\n",
      "-0.489094470654 0.239213401224 16.19213533673074\n",
      "-0.48842106998 0.238555141601 16.18554083684102\n",
      "-0.487747669307 0.237897788914 16.178949422492803\n",
      "-0.487074268634 0.237241343165 16.172361092002095\n",
      "-0.48640086796 0.236585804352 16.165775843763942\n",
      "-0.485727467287 0.235931172477 16.159193676155336\n",
      "-0.485054066613 0.235277447538 16.152614587553675\n",
      "-0.48438066594 0.234624629536 16.146038576337187\n",
      "-0.483707265266 0.233972718472 16.139465640885696\n",
      "-0.483033864593 0.233321714344 16.13289577957908\n",
      "-0.48236046392 0.232671617153 16.126328990799387\n",
      "-0.481687063246 0.232022426899 16.119765272927648\n",
      "-0.481013662573 0.231374143582 16.11320462434844\n",
      "-0.480340261899 0.230726767202 16.10664704344493\n",
      "-0.479666861226 0.230080297758 16.100092528602524\n",
      "-0.478993460553 0.229434735252 16.093541078188\n",
      "-0.478320059879 0.228790079683 16.086992690646245\n",
      "-0.477646659206 0.228146331051 16.08044736430696\n",
      "-0.476973258532 0.227503489355 16.073905097578713\n",
      "-0.476299857859 0.226861554597 16.067365888831745\n",
      "-0.475626457186 0.226220526775 16.0608297364952\n",
      "-0.474953056512 0.22558040589 16.054296638961084\n"
     ]
    },
    {
     "data": {
      "text/plain": [
       "[None, None]"
      ]
     },
     "execution_count": 73,
     "metadata": {},
     "output_type": "execute_result"
    },
    {
     "data": {
      "image/png": "[encoded data removed]",
      "text/plain": [
       "<matplotlib.figure.Figure at 0x7f08ba4fc860>"
      ]
     },
     "metadata": {},
     "output_type": "display_data"
    }
   ],
   "source": [
    "tt = np.linspace(350,351,100)\n",
    "rmin, rmax = [],[]\n",
    "for p in tt:\n",
    "    T_sat = CP.PropsSI('T','P',101325,'Q',0,'water')\n",
    "    sigma = CP.PropsSI('I','T',p,'Q',0,'water')\n",
    "    hlv = CP.PropsSI('H','T',p,'Q',1,'water') - CP.PropsSI('H','T',p,'Q',0,'water')\n",
    "    rhov = CP.PropsSI('D','T',p,'Q',1,'water')\n",
    "    rhol = CP.PropsSI('D','T',p,'Q',0,'water')\n",
    "    ssqrt = np.sqrt((1-(T_sat-p)/15)**2 - 12.8 * sigma * T_sat / (rhov * hlv * 2e-6 * (15)))\n",
    "    print(1-(T_sat - p)/15,(1-(T_sat - p)/15)**2,12.8 * sigma * T_sat / (rhov * hlv * 2e-6 * (15)))\n",
    "    rmin.append((1-(T_sat-p)/15-ssqrt)*2e-6/4)\n",
    "    rmax.append((1-(T_sat-p)/15+ssqrt)*2e-6/4)\n",
    "\n",
    "tt = T_sat - tt\n",
    "rmin = np.array(rmin)\n",
    "rmax = np.array(rmax)\n",
    "fig1 = plt.figure(figsize=(6*np.sqrt(2),6))\n",
    "ax1 = fig1.add_subplot(1,1,1)\n",
    "ax1.plot(tt,rmin*1e3,'k--',label=r'$r_{min}$')\n",
    "ax1.plot(tt,rmax*1e3,color='black',label=r'$r_{max}$')\n",
    "ax1.set_ylabel('r [mm]', fontsize=15)\n",
    "ax1.set_xlabel(r'$T-T_{sat}$ [K]', fontsize=15)\n",
    "l = ax1.legend(loc='best')\n",
    "plt.setp(plt.gca().get_legend().get_texts(), fontsize='16') "
   ]
  },
  {
   "cell_type": "code",
   "execution_count": 60,
   "metadata": {
    "collapsed": false
   },
   "outputs": [
    {
     "name": "stderr",
     "output_type": "stream",
     "text": [
      "/home/julionaojulho/.local/lib/python3.5/site-packages/ipykernel/__main__.py:1: RuntimeWarning: invalid value encountered in sqrt\n",
      "  if __name__ == '__main__':\n"
     ]
    },
    {
     "data": {
      "text/plain": [
       "nan"
      ]
     },
     "execution_count": 60,
     "metadata": {},
     "output_type": "execute_result"
    }
   ],
   "source": [
    "np.sqrt(1 - 12.8 * sigma * T_sat / (rhov * hlv * 2e-6 * (15)))"
   ]
  },
  {
   "cell_type": "code",
   "execution_count": 70,
   "metadata": {
    "collapsed": false
   },
   "outputs": [
    {
     "data": {
      "text/plain": [
       "array([ nan,  nan,  nan,  nan,  nan,  nan,  nan,  nan,  nan,  nan,  nan,\n",
       "        nan,  nan,  nan,  nan,  nan,  nan,  nan,  nan,  nan,  nan,  nan,\n",
       "        nan,  nan,  nan,  nan,  nan,  nan,  nan,  nan,  nan,  nan,  nan,\n",
       "        nan,  nan,  nan,  nan,  nan,  nan,  nan,  nan,  nan,  nan,  nan,\n",
       "        nan,  nan,  nan,  nan,  nan,  nan,  nan,  nan,  nan,  nan,  nan,\n",
       "        nan,  nan,  nan,  nan,  nan,  nan,  nan,  nan,  nan,  nan,  nan,\n",
       "        nan,  nan,  nan,  nan,  nan,  nan,  nan,  nan,  nan,  nan,  nan,\n",
       "        nan,  nan,  nan,  nan,  nan,  nan,  nan,  nan,  nan,  nan,  nan,\n",
       "        nan,  nan,  nan,  nan,  nan,  nan,  nan,  nan,  nan,  nan,  nan,\n",
       "        nan])"
      ]
     },
     "execution_count": 70,
     "metadata": {},
     "output_type": "execute_result"
    }
   ],
   "source": [
    "rmax"
   ]
  },
  {
   "cell_type": "code",
   "execution_count": null,
   "metadata": {
    "collapsed": true
   },
   "outputs": [],
   "source": []
  }
 ],
 "metadata": {
  "kernelspec": {
   "display_name": "Python 3",
   "language": "python",
   "name": "python3"
  },
  "language_info": {
   "codemirror_mode": {
    "name": "ipython",
    "version": 3
   },
   "file_extension": ".py",
   "mimetype": "text/x-python",
   "name": "python",
   "nbconvert_exporter": "python",
   "pygments_lexer": "ipython3",
   "version": "3.5.2"
  }
 },
 "nbformat": 4,
 "nbformat_minor": 0
}
