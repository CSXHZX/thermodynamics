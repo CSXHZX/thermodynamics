{
 "cells": [
  {
   "cell_type": "markdown",
   "metadata": {},
   "source": [
    "## Thermodynamics\n",
    "### Phase equilibrium\n",
    "##### UNIFAC method - Activity coefficient"
   ]
  },
  {
   "cell_type": "code",
   "execution_count": 1,
   "metadata": {
    "collapsed": false
   },
   "outputs": [],
   "source": [
    "import numpy as np\n",
    "import pandas as pd\n",
    "import CoolProp.CoolProp as CP\n",
    "import scipy.optimize as opt\n",
    "import matplotlib.pyplot as plt\n",
    "%matplotlib inline\n",
    "#import seaborn as sns\n",
    "plt.style.use('ggplot')"
   ]
  },
  {
   "cell_type": "markdown",
   "metadata": {},
   "source": [
    "Molecular group data, extracted from the course material."
   ]
  },
  {
   "cell_type": "code",
   "execution_count": 2,
   "metadata": {
    "collapsed": false
   },
   "outputs": [
    {
     "data": {
      "text/html": [
       "<div>\n",
       "<table border=\"1\" class=\"dataframe\">\n",
       "  <thead>\n",
       "    <tr style=\"text-align: right;\">\n",
       "      <th></th>\n",
       "      <th>1</th>\n",
       "      <th>2</th>\n",
       "      <th>3</th>\n",
       "      <th>4</th>\n",
       "      <th>5</th>\n",
       "      <th>6</th>\n",
       "      <th>7</th>\n",
       "      <th>8</th>\n",
       "      <th>9</th>\n",
       "      <th>10</th>\n",
       "      <th>11</th>\n",
       "      <th>12</th>\n",
       "      <th>13</th>\n",
       "      <th>14</th>\n",
       "      <th>15</th>\n",
       "      <th>16</th>\n",
       "      <th>17</th>\n",
       "      <th>18</th>\n",
       "    </tr>\n",
       "  </thead>\n",
       "  <tbody>\n",
       "    <tr>\n",
       "      <th>1</th>\n",
       "      <td>0.00</td>\n",
       "      <td>8602.000</td>\n",
       "      <td>61.13</td>\n",
       "      <td>76.50</td>\n",
       "      <td>986.5</td>\n",
       "      <td>697.2</td>\n",
       "      <td>1318.0</td>\n",
       "      <td>1333.0</td>\n",
       "      <td>476.40</td>\n",
       "      <td>677.0</td>\n",
       "      <td>232.100</td>\n",
       "      <td>507.0</td>\n",
       "      <td>251.50</td>\n",
       "      <td>391.500</td>\n",
       "      <td>255.70</td>\n",
       "      <td>206.60</td>\n",
       "      <td>920.70</td>\n",
       "      <td>287.800</td>\n",
       "    </tr>\n",
       "    <tr>\n",
       "      <th>2</th>\n",
       "      <td>-35.36</td>\n",
       "      <td>0.000</td>\n",
       "      <td>38.81</td>\n",
       "      <td>74.15</td>\n",
       "      <td>524.1</td>\n",
       "      <td>787.6</td>\n",
       "      <td>270.6</td>\n",
       "      <td>526.1</td>\n",
       "      <td>182.60</td>\n",
       "      <td>448.8</td>\n",
       "      <td>37.850</td>\n",
       "      <td>333.5</td>\n",
       "      <td>214.50</td>\n",
       "      <td>240.900</td>\n",
       "      <td>163.90</td>\n",
       "      <td>61.11</td>\n",
       "      <td>749.30</td>\n",
       "      <td>2811.500</td>\n",
       "    </tr>\n",
       "    <tr>\n",
       "      <th>3</th>\n",
       "      <td>-11.12</td>\n",
       "      <td>3.446</td>\n",
       "      <td>0.00</td>\n",
       "      <td>167.00</td>\n",
       "      <td>636.1</td>\n",
       "      <td>637.4</td>\n",
       "      <td>903.8</td>\n",
       "      <td>1329.0</td>\n",
       "      <td>25.77</td>\n",
       "      <td>347.3</td>\n",
       "      <td>5.994</td>\n",
       "      <td>287.1</td>\n",
       "      <td>32.14</td>\n",
       "      <td>161.700</td>\n",
       "      <td>122.80</td>\n",
       "      <td>9049.00</td>\n",
       "      <td>648.20</td>\n",
       "      <td>-4.449</td>\n",
       "    </tr>\n",
       "    <tr>\n",
       "      <th>4</th>\n",
       "      <td>-69.70</td>\n",
       "      <td>-113.600</td>\n",
       "      <td>-146.80</td>\n",
       "      <td>0.00</td>\n",
       "      <td>803.2</td>\n",
       "      <td>603.3</td>\n",
       "      <td>5695.0</td>\n",
       "      <td>4.9</td>\n",
       "      <td>-52.10</td>\n",
       "      <td>586.8</td>\n",
       "      <td>5688.000</td>\n",
       "      <td>197.8</td>\n",
       "      <td>213.10</td>\n",
       "      <td>19.020</td>\n",
       "      <td>-49.29</td>\n",
       "      <td>23.50</td>\n",
       "      <td>663.20</td>\n",
       "      <td>52.800</td>\n",
       "    </tr>\n",
       "    <tr>\n",
       "      <th>5</th>\n",
       "      <td>156.40</td>\n",
       "      <td>457.000</td>\n",
       "      <td>89.60</td>\n",
       "      <td>25.82</td>\n",
       "      <td>0.0</td>\n",
       "      <td>-137.1</td>\n",
       "      <td>353.5</td>\n",
       "      <td>-259.7</td>\n",
       "      <td>84.00</td>\n",
       "      <td>-203.6</td>\n",
       "      <td>101.100</td>\n",
       "      <td>267.8</td>\n",
       "      <td>28.06</td>\n",
       "      <td>8.642</td>\n",
       "      <td>42.70</td>\n",
       "      <td>-3210.00</td>\n",
       "      <td>-52.39</td>\n",
       "      <td>170.000</td>\n",
       "    </tr>\n",
       "  </tbody>\n",
       "</table>\n",
       "</div>"
      ],
      "text/plain": [
       "        1         2       3       4      5      6       7       8       9  \\\n",
       "1    0.00  8602.000   61.13   76.50  986.5  697.2  1318.0  1333.0  476.40   \n",
       "2  -35.36     0.000   38.81   74.15  524.1  787.6   270.6   526.1  182.60   \n",
       "3  -11.12     3.446    0.00  167.00  636.1  637.4   903.8  1329.0   25.77   \n",
       "4  -69.70  -113.600 -146.80    0.00  803.2  603.3  5695.0     4.9  -52.10   \n",
       "5  156.40   457.000   89.60   25.82    0.0 -137.1   353.5  -259.7   84.00   \n",
       "\n",
       "      10        11     12      13       14      15       16      17        18  \n",
       "1  677.0   232.100  507.0  251.50  391.500  255.70   206.60  920.70   287.800  \n",
       "2  448.8    37.850  333.5  214.50  240.900  163.90    61.11  749.30  2811.500  \n",
       "3  347.3     5.994  287.1   32.14  161.700  122.80  9049.00  648.20    -4.449  \n",
       "4  586.8  5688.000  197.8  213.10   19.020  -49.29    23.50  663.20    52.800  \n",
       "5 -203.6   101.100  267.8   28.06    8.642   42.70 -3210.00  -52.39   170.000  "
      ]
     },
     "execution_count": 2,
     "metadata": {},
     "output_type": "execute_result"
    }
   ],
   "source": [
    "groups = { # main: {secondary i:[molecule,R,Q],secondary i+1:[molécula,R,Q],etc}\n",
    "    1: {1:['CH3',0.9011,0.848],2:['CH2',0.6744,0.540],3:['CH',0.4469,0.228],4:['C',0.2195,0]},\n",
    "    2: {5:['CH2CH',1.3454,1.176],6:['CHCH',1.1167,0.867],7:['CH2C',1.1173,0.988],8:['CHC',0.8886,0.676],70:['CC',0.6605,0.485]},\n",
    "    3: {9:['ACH',0.5313,0.400],10:['AC',0.3652,0.120]},\n",
    "    4: {11:['ACCH3',1.2663,0.968],12:['ACCH2',1.0396,0.660],13:['ACCH',0.8121,0.348]},\n",
    "    5: {14:['OH',1.000,1.200]},\n",
    "    6: {15:['CH3OH',1.4311,1.432]},\n",
    "    7: {16:['H2O',0.9200,1.400]},\n",
    "    8: {17:['ACOH',0.8952,0.680]},\n",
    "    9: {18:['CH3CO',1.6724,1.488],19:['CH2CO',1.4457,1.180]},\n",
    "    10: {20:['CHO',0.9980,0.948]},\n",
    "    11: {21:['CH3COO',1.9031,1.728],22:['CH2COO',1.6764,1.420]},\n",
    "    12: {23:['HCOO',1.2420,1.188]}\n",
    "}\n",
    "g_groups = {}\n",
    "for i in groups.values():\n",
    "    g_groups.update(i)\n",
    "    \n",
    "a_mn = pd.read_csv('a-mn.csv', sep=';', index_col=0)\n",
    "a_mn.head()"
   ]
  },
  {
   "cell_type": "markdown",
   "metadata": {},
   "source": [
    "## UNIFAC Method\n",
    "#### >> brief explanation goes here <<\n",
    "\n",
    "**Molecule class and it's methods:**\n",
    "* initializer - molecular group code and its respective amount\n",
    "\n",
    "\\> **combinatiorial activity coefficient** - _the easy one, be like it_\n",
    "* r, q and l coefficients\n",
    "* $\\phi$ and $\\theta$ factors\n",
    "* $\\gamma^c$- combinatorial activity coefficient\n",
    "\n",
    "\\> **residual activity coefficient** - _the hard one, don't be this one_\n",
    "* $\\psi$ factor\n",
    "* $\\Gamma_k$, X and $\\theta$\n",
    "* $\\Gamma_k^i$, $X^i$ and $\\theta^i$\n",
    "        \n",
    "$$\\ln{\\gamma^r} = \\sum \\nu_k (\\ln\\Gamma_k - \\ln\\Gamma_k^i)$$\n",
    "\n",
    "\\> **acitivity coefficient**\n",
    "\n",
    "$$\\ln{\\gamma} = \\ln{\\gamma^c} + \\ln{\\gamma^r}$$"
   ]
  },
  {
   "cell_type": "code",
   "execution_count": 3,
   "metadata": {
    "collapsed": true
   },
   "outputs": [],
   "source": [
    "class molecule():\n",
    "    def __init__(self,molGroups):\n",
    "        self.g = molGroups.keys()\n",
    "        self.v = molGroups.values()\n",
    "        self.groups = molGroups        \n",
    "        \n",
    "    def rql(self):\n",
    "        z,r,q = 10,0,0        \n",
    "        num = len(self.g)\n",
    "        if num > 1:\n",
    "            for i,k in zip(self.g,self.v):\n",
    "                r += g_groups[i][1] * k\n",
    "                q += g_groups[i][2] * k\n",
    "        else:\n",
    "            r = g_groups[tuple(self.g)[0]][1] * tuple(self.v)[0]\n",
    "            q = g_groups[tuple(self.g)[0]][2] * tuple(self.v)[0]\n",
    "        self.l = 0.5 * z * (r - q) - (r - 1)\n",
    "        self.r,self.q = r,q\n",
    "        return(self.r,self.q,self.l)\n",
    "    \n",
    "    def phi_theta(self, fluid):        \n",
    "        self.x, fluid.x = x, (1-x)\n",
    "        phi,theta = {},{}       \n",
    "        phi[self] = self.r * x / (self.r * self.x + fluid.r * fluid.x)\n",
    "        phi[fluid] = fluid.r * (1 - x) / (self.r * self.x + fluid.r * fluid.x)\n",
    "        theta[self] = self.q * x / (self.q * x + fluid.q * (1 - x))\n",
    "        theta[fluid] = fluid.q * (1 - x) / (self.q * self.x + fluid.q * fluid.x)\n",
    "        self.phi, self.theta = phi[self], theta[self]\n",
    "        fluid.phi, fluid.theta = phi[fluid], theta[fluid]\n",
    "        return(self.phi, self.theta, fluid.phi, fluid.theta)\n",
    "    \n",
    "    def combinatorial(self, fluid):\n",
    "        self.phi_theta(fluid)\n",
    "        self.x, fluid.x = x, (1-x)\n",
    "        self.gamma_c_ln = np.log(self.phi / self.x) + 5 * self.q * np.log(self.theta / self.phi) + \\\n",
    "                    self.l - (self.phi / self.x) * ( fluid.x * fluid.l + self.x * self.l )\n",
    "        fluid.gamma_c_ln = np.log(fluid.phi / fluid.x) + 5 * fluid.q * np.log(fluid.theta / fluid.phi) + \\\n",
    "                    fluid.l - (fluid.phi / fluid.x) * ( self.x * self.l + fluid.x * fluid.l )\n",
    "        self.gamma = np.exp(self.gamma_c_ln)\n",
    "        fluid.gamma = np.exp(fluid.gamma_c_ln)\n",
    "        return(self.gamma_c_ln, fluid.gamma_c_ln)    \n",
    "        \n",
    "    def psi_mod(self, fluid, pairs):\n",
    "        self.p = tuple([(i,j) for i in pairs for j in pairs])\n",
    "        a, psi = {}, {}\n",
    "        for i in self.p:\n",
    "            j = (i[0]-1,i[1]-1)\n",
    "            a[i] = a_mn.iat[j]\n",
    "            psi[i] = np.exp(-a_mn.iat[j] / T)\n",
    "        self.a_k, self.a_v, self.a = a.keys(), a.values(), a\n",
    "        self.psi_k, self.psi_v, self.psi = psi.keys(), psi.values(), psi\n",
    "        self.psi_matrix = np.reshape(np.array([self.psi[i] for i in self.p]),(len(pairs),len(pairs)))\n",
    "        return(self.a_k, self.a_v, self.a)\n",
    "        return(self.psi_k, self.psi_v, self.psi)\n",
    "        return(self.p)\n",
    "        return(self.psi_matrix)\n",
    "    \n",
    "    def X_mod(self, fluid):            \n",
    "        self.x, fluid.x = x, (1-x)\n",
    "        den = sum([self.groups[k] for k in list(self.g)]) * self.x + \\\n",
    "              sum([fluid.groups[k] for k in list(fluid.g)]) * fluid.x\n",
    "        X = []\n",
    "        g_list = list(set([i for j in [list(self.g),list(fluid.g)] for i in j]))\n",
    "        for k in sorted(g_list):\n",
    "            nom = 0\n",
    "            if k in list(self.g):\n",
    "                nom += self.groups[k] * self.x\n",
    "            if k in list(fluid.g):\n",
    "                nom += fluid.groups[k] * fluid.x\n",
    "            X.append(nom / den)      \n",
    "        self.X = X       \n",
    "        return(self.X)\n",
    "    \n",
    "    def X_mod_i(self, fluid):   \n",
    "        v1, v2 = list(self.v), list(fluid.v)\n",
    "        Xi = np.array(v1) / sum(v1), np.array(v2) / sum(v2)\n",
    "        self.Xi = Xi\n",
    "        return(self.Xi)\n",
    "    \n",
    "    def Theta_mod(self, fluid):\n",
    "        Xx = self.X_mod(fluid)\n",
    "        g_list = list(set([i for j in [list(self.g),list(fluid.g)] for i in j]))\n",
    "        nom = np.multiply(np.transpose(Xx) ,np.array([g_groups[k][2] for k in sorted(g_list)]))\n",
    "        den = sum(nom)\n",
    "        self.Theta = np.divide(nom, den)\n",
    "        return(self.Theta)\n",
    "    \n",
    "    def Theta_mod_i(self, fluid):\n",
    "        X_i = self.X_mod_i(fluid)\n",
    "        g1, g2 = list(self.g), list(fluid.g)\n",
    "        Q1, Q2 = [g_groups[i][2] for i in g1], [g_groups[i][2] for i in g2]\n",
    "        #print(X_i,'\\n',Q1,'\\n',Q2)\n",
    "        nom1, nom2 = np.multiply(X_i[0],Q1), np.multiply(X_i[1],Q2)\n",
    "        den1, den2 = sum(nom1), sum(nom2)\n",
    "        self.Theta1, self.Theta2 = nom1 / den1, nom2 / den2\n",
    "        return(self.Theta1, self.Theta2)\n",
    "    \n",
    "    def Gamma_k(self, fluid):        \n",
    "        t = self.Theta_mod(fluid)\n",
    "        g_list = list(set([i for j in [list(self.g),list(fluid.g)] for i in j]))\n",
    "        Q = [g_groups[k][2] for k in sorted(g_list)]\n",
    "        YY = self.psi_matrix\n",
    "        nTheta = np.reshape(t,(len(YY),1))\n",
    "        pt = np.multiply(YY,nTheta)\n",
    "        pt2 = np.multiply(YY,t)\n",
    "        denom = np.sum(pt,axis=0)\n",
    "        gam = 1 - np.log(denom) - np.sum(np.divide([i for i in pt2],denom),axis=1)\n",
    "        self.gamma_k_ln = np.multiply(Q,gam)\n",
    "        return(self.gamma_k_ln)\n",
    "    \n",
    "    def Gamma_k_i(self, fluid):\n",
    "        t1, t2 = self.Theta_mod_i(fluid)    \n",
    "        g1, g2 = list(self.g), list(fluid.g)\n",
    "        Q1, Q2 = [g_groups[i][2] for i in g1], [g_groups[i][2] for i in g2]\n",
    "        YY = self.psi_matrix\n",
    "        if len(YY) == 3:\n",
    "            a, b = np.multiply([YY[0,0],YY[2,0]], t1), np.multiply([YY[0,2],YY[2,2]], t1)\n",
    "            c, d = np.multiply([YY[0,0],YY[1,0]], t2), np.multiply([YY[0,1],YY[1,1]], t2)\n",
    "            e, f = np.multiply([YY[0,0],YY[0,2]], t1), np.multiply([YY[2,0],YY[2,2]], t1)\n",
    "            g, h = np.multiply([YY[0,0],YY[0,1]], t1), np.multiply([YY[1,0],YY[1,1]], t2)\n",
    "            gamma_1 = Q1[0] * (1 - np.log(sum(a)) - e[0] / sum(a) - e[1] / sum(b) )\n",
    "            gamma_2 = Q1[1] * (1 - np.log(sum(b)) - f[0] / sum(a) - f[1] / sum(b) )\n",
    "            gamma_3 = Q2[0] * (1 - np.log(sum(c)) - g[0] / sum(c) - g[1] / sum(d) )\n",
    "            gamma_4 = Q2[1] * (1 - np.log(sum(d)) - h[0] / sum(c) - h[1] / sum(d) ) \n",
    "        else:\n",
    "            a, b = np.multiply([YY[0,0],YY[1,0]], t1), np.multiply([YY[0,1],YY[1,1]], t1)\n",
    "            c, d = np.multiply([YY[0,0],YY[1,0]], t2), np.multiply([YY[0,1],YY[1,1]], t2)\n",
    "            e, f = np.multiply([YY[0,0],YY[0,1]], t1), np.multiply([YY[1,0],YY[1,1]], t1)\n",
    "            g, h = np.multiply([YY[0,0],YY[0,1]], t1), np.multiply([YY[1,0],YY[1,1]], t2)\n",
    "            gamma_1 = Q1[0] * (1 - np.log(sum(a)) - e[0] / sum(a) - e[1] / sum(b) )\n",
    "            gamma_2 = Q1[1] * (1 - np.log(sum(b)) - f[0] / sum(a) - f[1] / sum(b) )\n",
    "            gamma_3 = Q2[0] * (1 - np.log(sum(c)) - g[0] / sum(c) - g[1] / sum(d) )\n",
    "            gamma_4 = Q2[1] * (1 - np.log(sum(d)) - h[0] / sum(c) - h[1] / sum(d) )\n",
    "        return(gamma_1,gamma_2,gamma_3,gamma_4)\n",
    "    \n",
    "    def residual(self, fluid):\n",
    "        v1, v2 = list(self.v), list(fluid.v)\n",
    "        k_i = self.Gamma_k_i(fluid)\n",
    "        g2 = np.array([self.Gamma_k(fluid)[0],self.Gamma_k(fluid)[1]])\n",
    "        if len(self.Gamma_k(fluid)) == 3:\n",
    "            g1 = np.array([self.Gamma_k(fluid)[0],self.Gamma_k(fluid)[2]])\n",
    "        else:\n",
    "            g1 = g2        \n",
    "        gg1 = g1-k_i[:2]\n",
    "        gg2 = g2-k_i[2:]\n",
    "        gamma_r_ln_1 = sum(np.multiply(v1,gg1))\n",
    "        gamma_r_ln_2 = sum(np.multiply(v2,gg2))\n",
    "        gamma_r_1, gamma_r_2 = np.exp(gamma_r_ln_1), np.exp(gamma_r_ln_2)\n",
    "        return(gamma_r_ln_1, gamma_r_ln_2)\n",
    "    \n",
    "    def Gamma(self, fluid):\n",
    "        yr = self.residual(fluid)\n",
    "        #print(x,'\\n',yr,'\\n')\n",
    "        yc = self.combinatorial(fluid)\n",
    "        #print(yc,'\\n')\n",
    "        y_ln = np.add(yr, yc)\n",
    "        #print(y_ln)\n",
    "        self.y = np.exp(y_ln)\n",
    "        return(self.y)"
   ]
  },
  {
   "cell_type": "markdown",
   "metadata": {},
   "source": [
    "**Peng-Robinson Equation**\n",
    "\n",
    "\\begin{equation}\n",
    "p = \\frac{RT}{v-b} - \\frac{a}{v^2+2bv-b^2}\n",
    "\\end{equation}\n",
    "\n",
    "where:\n",
    "\\begin{equation}\n",
    "a_i = \\frac{0.45724 R^2 T_c^2}{p_c} \\times \\left[1 + (0.37464 + 1.54226 \\omega - 0.26992 \\omega^2)(1-\\sqrt{\\frac{T}{T_c}})\\right]^2\n",
    "\\end{equation}\n",
    "\n",
    "or\n",
    "\\begin{equation}\n",
    "a_i = \\frac{0.45724 R^2 T_c^2}{p_c} \\times \\alpha(T)\n",
    "\\end{equation}\n",
    "\n",
    "with\n",
    "\n",
    "\\begin{equation}\n",
    "\\alpha\\left(T\\right) = \\left[1 + (0.37464 + 1.54226 \\omega - 0.26992 \\omega^2)(1-\\sqrt{\\frac{T}{T_c}})\\right]^2\n",
    "\\end{equation}\n",
    "\n",
    "\\begin{equation}\n",
    "b_i = \\frac{0.07780 R T_c}{p_c}\n",
    "\\end{equation}"
   ]
  },
  {
   "cell_type": "markdown",
   "metadata": {},
   "source": [
    "**Isobutane** - pure\n",
    "* Properties: $p_{sat}$,$T_c$, $p_c$, $\\omega$\n",
    "* Constants: a, b, $\\alpha(T)$"
   ]
  },
  {
   "cell_type": "code",
   "execution_count": 4,
   "metadata": {
    "collapsed": false
   },
   "outputs": [
    {
     "name": "stdout",
     "output_type": "stream",
     "text": [
      "283.3269186835259 7.268887954158169e-05\n"
     ]
    }
   ],
   "source": [
    "R = 8.314\n",
    "T = 303.14\n",
    "kPatommHg = 760 / 101.325\n",
    "p_sat_but = CP.PropsSI('P','T',T,'Q',0,'nButane') / 1000\n",
    "p_crit_but = CP.PropsSI('pcrit','Isobutane') / 1000\n",
    "T_crit_but = CP.PropsSI('Tcrit','Isobutane')\n",
    "w_but = CP.PropsSI('acentric','T',T,'Q',0,'Isobutane')\n",
    "##\n",
    "alpha_but = 1 + (0.37464 + 1.54226 * w_but - 0.26992 * w_but**2) * (1 - np.sqrt(T / T_crit_but))\n",
    "a_but = 0.45724 *( (R * T_crit_but) ** 2 / p_crit_but) * alpha_but**2 / 1000\n",
    "b_but = 0.07780 * R * T_crit_but / p_crit_but / 1000\n",
    "print(p_sat_but, b_but)"
   ]
  },
  {
   "cell_type": "markdown",
   "metadata": {},
   "source": [
    "**Propane** - pure\n",
    "* Properties: $p_{sat}$,$T_c$, $p_c$, $\\omega$\n",
    "* Constants: a, b, $\\alpha(T)$"
   ]
  },
  {
   "cell_type": "code",
   "execution_count": 5,
   "metadata": {
    "collapsed": false
   },
   "outputs": [
    {
     "name": "stdout",
     "output_type": "stream",
     "text": [
      "1078.7296654406323 5.627955701637185e-05\n"
     ]
    },
    {
     "data": {
      "text/plain": [
       "-1.0916966633165299"
      ]
     },
     "execution_count": 5,
     "metadata": {},
     "output_type": "execute_result"
    }
   ],
   "source": [
    "p_sat_prop = CP.PropsSI('P','T',T,'Q',0,'Propane') / 1000\n",
    "p_crit_prop = CP.PropsSI('pcrit','Propane') / 1000\n",
    "T_crit_prop = CP.PropsSI('Tcrit','Propane')\n",
    "w_prop = CP.PropsSI('acentric','T',T,'Q',0,'Propane')\n",
    "##\n",
    "alpha_prop = 1 + (0.37464 + 1.54226 * w_prop - 0.26992 * w_prop**2) * (1 - np.sqrt(T / T_crit_prop))\n",
    "a_prop = 0.45724 *( (R * T_crit_prop) ** 2 / p_crit_prop) * alpha_prop**2 / 1000\n",
    "b_prop = 0.07780 * R * T_crit_prop / p_crit_prop / 1000\n",
    "print(p_sat_prop, b_prop)\n",
    "\n",
    "(a_prop - np.sqrt(a_prop*a_but)) * 4.18"
   ]
  },
  {
   "cell_type": "markdown",
   "metadata": {},
   "source": [
    "**Mixture**\n",
    "\n",
    "\\begin{equation}\n",
    "a = \\sum\\limits_j \\sum\\limits_i x_i x_j \\sqrt{(a_i a_j)}\n",
    "\\end{equation}\n",
    "\n",
    "\\begin{equation}\n",
    "b = \\sum\\limits_i x_i b_i\n",
    "\\end{equation}\n",
    "\n",
    "i.e\n",
    "\n",
    "\\begin{equation}\n",
    "p = \\frac{\\left(N_1 + N_2 \\right)RT}{V-N_1 b_1 - N_2 b_2} - \\frac{N_1^2 a_1 + N_1 N_2 \\sqrt{a_1 a_2} + N_2^2 a_2}{V^2+2 \\left(N_1 b_1 + N_2 b_2 \\right)V-\\left(N_1 b_1 + N_2 b_2 \\right)^2}\n",
    "\\end{equation}"
   ]
  },
  {
   "cell_type": "code",
   "execution_count": 6,
   "metadata": {
    "collapsed": false
   },
   "outputs": [
    {
     "data": {
      "text/plain": [
       "'x_molar = np.linspace(0.1,0.9,10)\\na = x_molar ** 2 * a_prop +     x_molar * (1 - x_molar) * np.sqrt(a_prop * a_but) +    (1 - x_molar) ** 2 * a_but\\nb = x_molar * b_prop + (1 - x_molar) * b_but'"
      ]
     },
     "execution_count": 6,
     "metadata": {},
     "output_type": "execute_result"
    }
   ],
   "source": [
    "'''x_molar = np.linspace(0.1,0.9,10)\n",
    "a = x_molar ** 2 * a_prop + \\\n",
    "    x_molar * (1 - x_molar) * np.sqrt(a_prop * a_but) +\\\n",
    "    (1 - x_molar) ** 2 * a_but\n",
    "b = x_molar * b_prop + (1 - x_molar) * b_but'''"
   ]
  },
  {
   "cell_type": "markdown",
   "metadata": {},
   "source": [
    "We are actually interested in finding the following derivative:\n",
    "\n",
    "\\begin{equation}\n",
    "v_i = \\frac{\\partial V}{\\partial N_i}\\bigg|_{T,p,N_{j\\neq i}}\n",
    "\\end{equation}\n",
    "\n",
    "since the fugacity coefficient $\\phi$ is defined as\n",
    "\n",
    "\\begin{equation}\n",
    "\\ln{\\phi_i} = - \\int\\limits_0^{p}\\left(\\frac{v_i}{RT}-\\frac{1}{p}\\right)\\mathrm{d}p\n",
    "\\end{equation}\n",
    "\n",
    "given that the Peng-Robinson equation is an implicit equation for V, that is quite complex. Thanks to math we can employ the inverse derivative rule, which leads to\n",
    "\n",
    "\\begin{equation}\n",
    "\\frac{\\partial V}{\\partial N_i}\\bigg|_{T,p,N_{j\\neq i}} = -\\frac{\\frac{\\partial p}{\\partial N_i}\\bigg|_{T,V,N_{j\\neq i}}}{\\frac{\\partial p}{\\partial V}\\bigg|_{T,N_i}}\n",
    "\\end{equation}\n",
    "\n",
    "\\begin{align}\n",
    "\\frac{\\partial p}{\\partial N_1}\\bigg|_{T,V,N_2} &= \\frac{RT \\left(V + N_2 b_1 - N_2 b_2\\right)}{\\left(V - N_1 b_1 - N_2 b_2\\right)^2} - \\frac{2 N_1 a_1 + N_2\\sqrt{a_1 a_2}}{V^2 + 2 V \\left(N_1 b_1 + N_2 b_2\\right) -\\left(N_1 b_1 + N_2 b_2\\right)^2} +\\\\\n",
    "&\\frac{2\\left(N_1^2 a_1 + N_1 N_2 \\sqrt{a_1 a_2} + N_2^2 a_2\\right)\\left[V b_1 - b_1\\left(N_1 b_1 + N_2 b_2\\right)\\right]}{\\left[V^2 + 2 V \\left(N_1 b_1 + N_2 b_2\\right) -\\left(N_1 b_1 + N_2 b_2\\right)^2\\right]^2}\n",
    "\\end{align}\n",
    "\n",
    "\\begin{equation}\n",
    "{\\frac{\\partial p}{\\partial V}\\bigg|_{T,N_i}} = -\\frac{\\left(N_1 + N_2\\right) RT}{\\left(V -N_1 b_1- N_2 b_2\\right)^2} + \\frac{2\\left(N_1^2 a_1 + N_1 N_2 \\sqrt{a_1 a_2} + N_2^2 a_2\\right)\\left[V + \\left(N_1 b_1 + N_2 b_2\\right)\\right]}{\\left[V^2 + 2 V \\left(N_1 b_1 + N_2 b_2\\right) - \\left(N_1 b_1 + N_2 b_2\\right) \\right]^2}\n",
    "\\end{equation}\n",
    "\n",
    "*--------------------------*\n",
    "\n",
    "\\begin{align}\n",
    "\\frac{\\partial V}{\\partial N_1}\\bigg|_{T,p,N_2} = \\frac{RT \\left(V + N_2 b_1 - N_2 b_2\\right)\\left[V^2 + 2 V \\left(N_1 b_1 + N_2 b_2\\right) -\\left(N_1 b_1 + N_2 b_2\\right)^2\\right]^2 -\\\\\n",
    "\\left(2 N_1 a_1 + N_2\\sqrt{a_1 a_2}\\right)\\left[V^2 + 2 V \\left(N_1 b_1 + N_2 b_2\\right) -\\left(N_1 b_1 + N_2 b_2\\right)^2\\right]\\left(V - N_1 b_1 - N_2 b_2\\right)^2 +\\\\\n",
    "2\\left(N_1^2 a_1 + N_1 N_2 \\sqrt{a_1 a_2} + N_2^2 a_2\\right)\\left[V b_1 - b_1\\left(N_1 b_1 + N_2 b_2\\right)\\right]\\left(V - N_1 b_1 - N_2 b_2\\right)^2}{\\left(N_1 + N_2\\right) RT\\left[V^2 + 2 V \\left(N_1 b_1 + N_2 b_2\\right) - \\left(N_1 b_1 + N_2 b_2\\right) \\right]^2 -\\\\\n",
    "2\\left(N_1^2 a_1 + N_1 N_2 \\sqrt{a_1 a_2} + N_2^2 a_2\\right)\\left[V + \\left(N_1 b_1 + N_2 b_2\\right)\\right]\\left(V -b_1 N_1 - b_2 N_2\\right)^2}\n",
    "\\end{align}\n",
    "\n",
    "*--------------------------*\n",
    "\n",
    "and as a function of the molar fractions\n",
    "\n",
    "\\begin{align}\n",
    "A = \\frac{\\partial V}{\\partial N_1}\\bigg|_{T,p,N_2} = \\frac{RT \\left(v + x_2 b_1 - x_2 b_2\\right)\\left[v^2 + 2 v\\left(x_1 b_1 + x_2 b_2\\right) - \\left(x_1 b_1 + x_2 b_2\\right)^2\\right]^2 -\\\\\n",
    "\\left(2 x_1 a_1 + x_2\\sqrt{a_1 a_2}\\right)\\left[v^2 + 2 v \\left(x_1 b_1 + x_2 b_2\\right) -\\left(x_1 b_1 + x_2 b_2\\right)^2\\right]\\left(v - x_1 b_1 - x_2 b_2\\right)^2 +\\\\\n",
    "2\\left(x_1^2 a_1 + x_1 x_2 \\sqrt{a_1 a_2} + x_2^2 a_2\\right)b_1\\left[v - \\left(x_1 b_1 + x_2 b_2\\right)\\right]^3}   {RT\\left[v^2 + 2 v \\left(x_1 b_1 + x_2 b_2\\right) - \\left(x_1 b_1 + x_2 b_2\\right) \\right]^2 - \\\\2\\left(x_1^2 a_1 + x_1 x_2 \\sqrt{a_1 a_2} + x_2^2 a_2\\right)\\left[v + \\left(x_1 b_1 + x_2 b_2\\right)\\right]\\left(v -b_1 x_1 - b_2 x_2\\right)^2}\n",
    "\\end{align}\n",
    "\n",
    "*--------------------------*"
   ]
  },
  {
   "cell_type": "markdown",
   "metadata": {},
   "source": [
    "*i.e*\n",
    "\n",
    "\\begin{equation}\n",
    "\\ln{\\phi_i} = - \\int\\limits_V^{\\infty}\\left(\\frac{v_i}{RT}-\\frac{1}{p}\\right)\\frac{\\partial p}{\\partial V}\\bigg|_{T,N}\\mathrm{d}V\n",
    "\\end{equation}\n",
    "\n",
    "\\begin{equation}\n",
    "\\ln{\\phi_i} = \\int\\limits_V^{\\infty}\\left(\\frac{1}{RT}\\frac{\\partial p}{\\partial N_i}\\bigg|_{T,V,N_{j\\neq i}} + \\frac{1}{p} \\frac{\\partial p}{\\partial V}\\bigg|_{T,N_i}\\right)\\mathrm{d}V\n",
    "\\end{equation}\n",
    "\n",
    "Introducing the compressibility factor Z and applying some mathemagics\n",
    "\n",
    "$$ Z = \\frac{PV}{\\left(N_1 + N_2\\right)RT}$$\n",
    "\n",
    "$$\\ln{\\phi_i} = \\int\\limits_V^{\\infty}\\left(\\frac{1}{RT}\\frac{\\partial p}{\\partial N_i}\\bigg|_{T,V,N_{j\\neq i}} - \\frac{1}{V}\\right)\\mathrm{d}V - \\ln{Z}$$\n",
    "\n",
    "\\begin{align}\n",
    "&\\frac{\\left(V + N_2 b_1 - N_2 b_2\\right)V - \\left(V - N_1 b_1 - N_2 b_2\\right)^2}{V\\left(V - N_1 b_1 - N_2 b_2\\right)^2} - \\frac{2 N_1 a_1 + N_2\\sqrt{a_1 a_2}}{RT\\left[V^2 + 2 V \\left(N_1 b_1 + N_2 b_2\\right) - \\left(N_1 b_1 + N_2 b_2\\right)^2\\right]} +\\\\\n",
    "&\\frac{2\\left(N_1^2 a_1 + N_1 N_2 \\sqrt{a_1 a_2} + N_2^2 a_2\\right)\\left[V b_1 - b_1\\left(N_1 b_1 + N_2 b_2\\right)\\right]}{RT\\left[\\left[V^2 + 2 V \\left(N_1 b_1 + N_2 b_2\\right) -\\left(N_1 b_1 + N_2 b_2\\right)^2\\right]^2\\right]}\n",
    "\\end{align}\n",
    "\n",
    "$$A = \\frac{a \\alpha p}{R^2T^2}$$\n",
    "\n",
    "$$B = \\frac{b p}{R T}$$\n",
    "http://onlinelibrary.wiley.com/doi/10.1002/aic.690120317/full\n",
    "http://www.sciencedirect.com/science/article/pii/S0378381204003127"
   ]
  },
  {
   "cell_type": "markdown",
   "metadata": {},
   "source": [
    "$$\\ln{\\phi_i} = \\int\\limits_V^{\\infty}\\left(\\frac{1}{RT}\\frac{\\partial p}{\\partial N_i}\\bigg|_{T,V,N_{j\\neq i}} - \\frac{1}{V}\\right)\\mathrm{d}V - \\ln{Z}$$\n",
    "\n",
    "$$int1 = RT \\left[\\frac{b_1 \\left(N_1 + N_2\\right)}{b_1 N_1 + b_2 N_2 - V} + \\ln{\\left(N_1 b_1 + N_2 b_2 -V\\right)} \\right]$$\n",
    "\n",
    "$$int2 = \\frac{\\left(2 N_1 a_1 + N_2\\sqrt{a_1 a_2}\\right) \\tanh^{-1}{\\left(\\frac{V + N_1 b_1 + N_2 b_2}{\\sqrt{2}\\left(N_1 b_1 + N_2 b_2\\right)}\\right)}}{\\sqrt{2}\\left(N_1 b_1 + N_2 b_2\\right)}$$\n",
    "\n",
    "$$int3 = \\frac{b_1}{\\left(N_1 b_1 + N_2 b_2\\right)}\\left(N_1^2 a_1 + N_1 N_2 \\sqrt{a_1 a_2} + N_2^2 a_2\\right)\\\\\n",
    "\\left[ \\frac{V}{\\left(V^2 + 2 V \\left(N_1 b_1 + N_2 b_2\\right) -\\left(N_1 b_1 + N_2 b_2\\right)^2\\right)} - \\\\\n",
    "\\frac{\\tanh^{-1}{\\left(\\frac{V + N_1 b_1 + N_2 b_2}{\\sqrt{2}\\left(N_1 b_1 + N_2 b_2\\right)}\\right)}}{\\sqrt{2}\\left(N_1 b_1 + N_2 b_2\\right)}\\right]\n",
    "$$\n",
    "\n",
    "$$int4 = \\ln{V}$$\n",
    "\n",
    "$$\\ln{\\phi_i} = \\left[int1 - int2 + int3 - \\ln{V} - \\ln{Z}\\right]\\bigg|_V^{\\infty}$$"
   ]
  },
  {
   "cell_type": "code",
   "execution_count": 7,
   "metadata": {
    "collapsed": false
   },
   "outputs": [],
   "source": [
    "phi_but_v = 1\n",
    "phi_prop_v = 1"
   ]
  },
  {
   "cell_type": "code",
   "execution_count": 8,
   "metadata": {
    "collapsed": false
   },
   "outputs": [],
   "source": [
    "def sistema(v):\n",
    "    y, p = v[0], v[1]\n",
    "    return(y * p * phi_prop_v - f_l_1, \\\n",
    "           (1-y) * p * phi_but_v - f_l_2)\n",
    "\n",
    "T = 303.14\n",
    "new_vecc = []\n",
    "xx_molar = np.linspace(0.1,0.9,20)\n",
    "for x in xx_molar:\n",
    "    propane, isobutane = molecule({1:2,2:1}), molecule({1:2,2:2})\n",
    "    propane.rql(), isobutane.rql()    \n",
    "    propane.phi_theta(isobutane)\n",
    "    propane.combinatorial(isobutane)\n",
    "    propane.psi_mod(isobutane,[1,1])\n",
    "    propane.X_mod(isobutane)\n",
    "    propane.X_mod_i(isobutane)\n",
    "    propane.Theta_mod(isobutane)\n",
    "    propane.Gamma_k(isobutane)\n",
    "    propane.Theta_mod_i(isobutane)\n",
    "    propane.Gamma_k_i(isobutane)\n",
    "    propane.residual(isobutane)\n",
    "    propane.Gamma(isobutane)\n",
    "    new_vecc.append(propane.y)   \n",
    "\n",
    "\n",
    "guess = (0, 0)    \n",
    "y1,p1 = [], []\n",
    "for i,x in enumerate(xx_molar):\n",
    "    f_l_1 = x * new_vecc[i][0] * p_sat_prop\n",
    "    f_l_2 = (1-x) * new_vecc[i][1] * p_sat_but\n",
    "    #print(f_l_1, f_l_2)\n",
    "    y, p =  opt.fsolve(sistema, guess)\n",
    "    guess = (y, p)\n",
    "    y1.append(y)\n",
    "    p1.append(p)"
   ]
  },
  {
   "cell_type": "markdown",
   "metadata": {},
   "source": [
    "## \\#Datamunging"
   ]
  },
  {
   "cell_type": "code",
   "execution_count": 9,
   "metadata": {
    "collapsed": false
   },
   "outputs": [],
   "source": [
    "# Bubble point\n",
    "pb1, xb1 = [], []\n",
    "pb1.append([p_sat_but]), xb1.append([0])\n",
    "pb1.append([p for p in p1]), xb1.append(xx_molar)\n",
    "pb1.append([p_sat_prop]), xb1.append([1])\n",
    "pb1 = np.array(list([i for j in pb1 for i in j]))* kPatommHg\n",
    "xb1 = np.array(list([i for j in xb1 for i in j]))\n",
    "\n",
    "# Dew point\n",
    "pdew1, xd1 = [], []\n",
    "pdew1.append([p_sat_but]), xd1.append([0])\n",
    "pdew1.append([p for p in p1]), xd1.append(y1)\n",
    "pdew1.append([p_sat_prop]), xd1.append([1])\n",
    "pdew1 = np.array(list([i for j in pdew1 for i in j]))* kPatommHg\n",
    "xd1 = np.array(list([i for j in xd1 for i in j]))"
   ]
  },
  {
   "cell_type": "markdown",
   "metadata": {},
   "source": [
    "## \\#Dataviz"
   ]
  },
  {
   "cell_type": "code",
   "execution_count": 10,
   "metadata": {
    "collapsed": false
   },
   "outputs": [
    {
     "data": {
      "text/plain": [
       "<matplotlib.text.Text at 0xaebdba8>"
      ]
     },
     "execution_count": 10,
     "metadata": {},
     "output_type": "execute_result"
    },
    {
     "data": {
      "image/png": "[encoded data removed]",
      "text/plain": [
       "<matplotlib.figure.Figure at 0xaf17518>"
      ]
     },
     "metadata": {},
     "output_type": "display_data"
    }
   ],
   "source": [
    "fig1 = plt.figure(figsize=(7,8))\n",
    "fig1.text(0.27, 0.38, \"V\", fontsize=20, color=\"k\")\n",
    "fig1.text(0.39, 0.48, \"V + L\", fontsize=20, color=\"k\")\n",
    "fig1.text(0.59, 0.58, \"L\", fontsize=20, color=\"k\")\n",
    "ax1 = fig1.add_subplot(1,1,1)\n",
    "ax1.plot(1-xb1,pb1,color='blue',label=r\"Bubble point - predicted data\")\n",
    "#ax.scatter((1-xb),pb)\n",
    "ax1.plot(1-xd1,pdew1,color='navy',label=r\"Dew point - predicted data\")\n",
    "#ax.scatter(1-xd,pd)\n",
    "ax1.set_xlim([0,1])\n",
    "#ax.set_ylim([0,8000])\n",
    "ax1.set_xlabel(r'$x_1$ [-]', fontsize=18)\n",
    "ax1.set_ylabel(r'$P$  [mmHg]', fontsize=18)\n",
    "\n",
    "## artigo\n",
    "x_beranek = np.array([0.096, 0.164, 0.257, 0.437, 0.867, 0.910])\n",
    "y_beranek = np.array([0.261, 0.388, 0.530, 0.707, 0.942, 0.958])\n",
    "p_beranek = np.array([354, 400.5, 468.1, 591, 947.4, 993.5]) * kPatommHg\n",
    "\n",
    "ax1.scatter(1-x_beranek,p_beranek,marker='o',label=r\"Bubble point -Beránek and Wichterle, 1980\")\n",
    "ax1.scatter(1-y_beranek,p_beranek,color='black',marker='s',label=r\"Dew point - Beránek and Wichterle, 1980\")\n",
    "ax1.legend(loc=1)\n",
    "ax1.set_title('VLE - Propane-n-Butane (GPL)',fontsize=22)"
   ]
  },
  {
   "cell_type": "markdown",
   "metadata": {
    "collapsed": true
   },
   "source": [
    "### Pressure vessel project\n",
    "\n",
    "$$ \\sigma = \\frac{p r}{t}$$\n",
    "\n",
    "where $t$ is the vessel wall thickness, $r$ its radius, $p$ the internal pressure and $\\sigma$ the tension state.\n",
    "\n",
    "We can, by selecting the material, and some standardized diameter, find the wall thickness given the mixture representative of GPL.\n",
    "\n",
    "http://www.liquigas.com.br/wps/portal/!ut/p/c1/04_SB8K8xLLM9MSSzPy8xBz9CP0os3hvPwMjIw93IwMDFzcjA6OgoADLQA8XQ2dXE30_j_zcVP2CbEdFAGvGFVA!/dl2/d1/L0lDU0lKSWdra0EhIS9JTlJBQUlpQ2dBek15cUEhL1lCSkoxTkExTkk1MC13ISEvN19LTjAyMkhHMjBPVkk0MDI3MFRPRDNBMU82Nw!!/?PC_7_KN022HG20OVI40270TOD3A1O67_WCM_CONTEXT=/wps/wcm/connect/Web%20Content/liquigas/menu/produtos+e+servicos/botijoes+para+residencias/tipos+de+botijoes/pagina+principal+tipos+de+botijoes"
   ]
  },
  {
   "cell_type": "code",
   "execution_count": 49,
   "metadata": {
    "collapsed": false
   },
   "outputs": [
    {
     "data": {
      "text/plain": [
       "2.5590563588696296"
      ]
     },
     "execution_count": 49,
     "metadata": {},
     "output_type": "execute_result"
    }
   ],
   "source": [
    "x_v = 0.60\n",
    "T_v = 70 + 273.15\n",
    "p_sat_prop_v = CP.PropsSI('P','T',T_v,'Q',0,'Propane') / 1000\n",
    "p_sat_but_v = CP.PropsSI('P','T',T_v,'Q',0,'nButane') / 1000\n",
    "x = x_v\n",
    "new_veccv = []\n",
    "propane, isobutane = molecule({1:2,2:1}), molecule({1:2,2:2})\n",
    "propane.rql(), isobutane.rql()    \n",
    "propane.phi_theta(isobutane)\n",
    "propane.combinatorial(isobutane)\n",
    "propane.psi_mod(isobutane,[1,1])\n",
    "propane.X_mod(isobutane)\n",
    "propane.X_mod_i(isobutane)\n",
    "propane.Theta_mod(isobutane)\n",
    "propane.Gamma_k(isobutane)\n",
    "propane.Theta_mod_i(isobutane)\n",
    "propane.Gamma_k_i(isobutane)\n",
    "propane.residual(isobutane)\n",
    "propane.Gamma(isobutane)\n",
    "new_veccv.append(propane.y)\n",
    "guess = (0, 0)    \n",
    "yv,pv = [], []\n",
    "f_l_1 = x * new_veccv[0][0] * p_sat_prop_v\n",
    "f_l_2 = (1-x) * new_veccv[0][1] * p_sat_but_v\n",
    "y, p =  opt.fsolve(sistema, guess)\n",
    "yv.append(y)\n",
    "pv.append(p)\n",
    "D = 360\n",
    "sigma = 210000   # limite de escoamento aço 1020\n",
    "k_s = 1.6        # coeficiente de segurança\n",
    "t = k_s * pv[0] * (D / 2) / sigma # cálculo da espessura de parede\n",
    "t"
   ]
  },
  {
   "cell_type": "code",
   "execution_count": null,
   "metadata": {
    "collapsed": true
   },
   "outputs": [],
   "source": []
  },
  {
   "cell_type": "code",
   "execution_count": null,
   "metadata": {
    "collapsed": false
   },
   "outputs": [],
   "source": [
    "T = 303.14\n",
    "x = 0.3\n",
    "new_vec = []\n",
    "x_molar = np.linspace(0.1,0.9,20)\n",
    "for x in x_molar:\n",
    "    pentano = molecule({1:2,2:3})\n",
    "    acetona = molecule({1:1,18:1})\n",
    "    pentano.rql(),acetona.rql()\n",
    "    acetona.rql()\n",
    "    acetona.phi_theta(pentano)\n",
    "    acetona.combinatorial(pentano)\n",
    "    acetona.psi_mod(pentano,[1,1,9])\n",
    "    acetona.X_mod(pentano)\n",
    "    acetona.X_mod_i(pentano)\n",
    "    acetona.Theta_mod(pentano)\n",
    "    acetona.Gamma_k(pentano)\n",
    "    acetona.Theta_mod_i(pentano)\n",
    "    acetona.Gamma_k_i(pentano)\n",
    "    acetona.residual(pentano)\n",
    "    acetona.Gamma(pentano)\n",
    "    new_vec.append(acetona.y)"
   ]
  },
  {
   "cell_type": "markdown",
   "metadata": {},
   "source": [
    "#### pentane-ketone mixture - combinatorial\n",
    "* r,q and l coefficients\n",
    "* $\\phi$ and $\\theta$ factors\n",
    "* $\\gamma^c$ coefficient"
   ]
  },
  {
   "cell_type": "markdown",
   "metadata": {},
   "source": [
    "#### residual\n",
    "the $\\gamma^r$ coefficient requires a few factors in order to be computed:\n",
    "* psi"
   ]
  },
  {
   "cell_type": "code",
   "execution_count": null,
   "metadata": {
    "collapsed": false
   },
   "outputs": [],
   "source": [
    "T = 303.14\n",
    "p_sat_pent = CP.PropsSI('P','T',T,'Q',0,'nPentane') / 1000\n",
    "p_sat_ace = CP.PropsSI('P','T',T,'Q',0,'acetone') / 1000\n",
    "print(p_sat_pent,p_sat_ace)\n",
    "guess = (0, 0)    \n",
    "yk,pk = [], []\n",
    "#x_molar = np.linspace(0.1,0.9,100)\n",
    "for i,x in enumerate(x_molar):\n",
    "    f_l_1 = x * new_vec[i][0] * p_sat_ace\n",
    "    f_l_2 = (1-x) * new_vec[i][1] * p_sat_pent\n",
    "    #print(f_l_1, f_l_2)\n",
    "    y, p =  opt.fsolve(sistema, guess)\n",
    "    guess = (y, p)\n",
    "    yk.append(y)\n",
    "    pk.append(p)\n",
    "    \n",
    "# Bubble point\n",
    "pb, xb = [], []\n",
    "pb.append([p_sat_pent]), xb.append([0])\n",
    "pb.append([p for p in pk]), xb.append(x_molar)\n",
    "pb.append([p_sat_ace]), xb.append([1])\n",
    "pb = np.array(list([i for j in pb for i in j]))* kPatommHg\n",
    "xb = np.array(list([i for j in xb for i in j]))\n",
    "\n",
    "# Dew point\n",
    "pdew, xd = [], []\n",
    "pdew.append([p_sat_pent]), xd.append([0])\n",
    "pdew.append([p for p in pk]), xd.append(yk)\n",
    "pdew.append([p_sat_ace]), xd.append([1])\n",
    "pdew = np.array(list([i for j in pdew for i in j]))* kPatommHg\n",
    "xd = np.array(list([i for j in xd for i in j]))\n",
    "\n",
    "fig = plt.figure(figsize=(7,8))\n",
    "fig.text(0.46, 0.55, \"V\", fontsize=20, color=\"k\")\n",
    "fig.text(0.56, 0.65, \"V + L\", fontsize=20, color=\"k\")\n",
    "fig.text(0.76, 0.75, \"L\", fontsize=20, color=\"k\")\n",
    "ax = fig.add_subplot(1,1,1)\n",
    "ax.plot(xb,pb,color='blue',label=r\"Bubble point - predicted data\")\n",
    "#ax.scatter((1-xb),pb)\n",
    "ax.plot(xd,pdew,color='navy',label=r\"Dew point - predicted data\")\n",
    "#ax.scatter(1-xd,pd)\n",
    "ax.set_xlim([0,1])\n",
    "ax.set_ylim([0,800])\n",
    "#matplotlib.rcParams.update({'font.size': 18, 'text.usetex': True})\n",
    "ax.set_xlabel(r'$x_1$ [-]', fontsize=18)\n",
    "ax.set_ylabel(r'$P$  [mmHg]', fontsize=18)\n",
    "\n",
    "exp = pd.read_csv('experimental.csv', sep=';')\n",
    "exp.head()\n",
    "exp['p'] = exp['p']/10\n",
    "exp['p'][2] = 84.881\n",
    "exp['p'][19] = 87.005\n",
    "ax.plot(exp['x1'],exp['p']*kPatommHg,'b--',label=r\"Bubble point - experimental data\")\n",
    "ax.plot(exp['y1'],exp['p']*kPatommHg,'k--',label=r\"Dew point - experimental data\")\n",
    "ax.legend(loc=4)\n",
    "ax.set_title('VLE - Acetone-Pentane',fontsize=22)"
   ]
  },
  {
   "cell_type": "markdown",
   "metadata": {},
   "source": []
  },
  {
   "cell_type": "markdown",
   "metadata": {
    "collapsed": true
   },
   "source": []
  }
 ],
 "metadata": {
  "kernelspec": {
   "display_name": "Python 3",
   "language": "python",
   "name": "python3"
  },
  "language_info": {
   "codemirror_mode": {
    "name": "ipython",
    "version": 3
   },
   "file_extension": ".py",
   "mimetype": "text/x-python",
   "name": "python",
   "nbconvert_exporter": "python",
   "pygments_lexer": "ipython3",
   "version": "3.5.1"
  }
 },
 "nbformat": 4,
 "nbformat_minor": 0
}
