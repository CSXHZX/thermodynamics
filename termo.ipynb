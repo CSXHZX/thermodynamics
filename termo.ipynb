{
 "cells": [
  {
   "cell_type": "markdown",
   "metadata": {},
   "source": [
    "### Thermodynamics\n",
    "#### Unifac method - Activity coefficients"
   ]
  },
  {
   "cell_type": "code",
   "execution_count": 1,
   "metadata": {
    "collapsed": true
   },
   "outputs": [],
   "source": [
    "import numpy as np\n",
    "import pandas as pd\n",
    "import CoolProp.CoolProp as CP"
   ]
  },
  {
   "cell_type": "markdown",
   "metadata": {},
   "source": [
    "Molecular group data, extracted from material."
   ]
  },
  {
   "cell_type": "code",
   "execution_count": 2,
   "metadata": {
    "collapsed": false
   },
   "outputs": [
    {
     "data": {
      "text/html": [
       "<div>\n",
       "<table border=\"1\" class=\"dataframe\">\n",
       "  <thead>\n",
       "    <tr style=\"text-align: right;\">\n",
       "      <th></th>\n",
       "      <th>1</th>\n",
       "      <th>2</th>\n",
       "      <th>3</th>\n",
       "      <th>4</th>\n",
       "      <th>5</th>\n",
       "      <th>6</th>\n",
       "      <th>7</th>\n",
       "      <th>8</th>\n",
       "      <th>9</th>\n",
       "      <th>10</th>\n",
       "      <th>11</th>\n",
       "      <th>12</th>\n",
       "      <th>13</th>\n",
       "      <th>14</th>\n",
       "      <th>15</th>\n",
       "      <th>16</th>\n",
       "      <th>17</th>\n",
       "      <th>18</th>\n",
       "    </tr>\n",
       "  </thead>\n",
       "  <tbody>\n",
       "    <tr>\n",
       "      <th>1</th>\n",
       "      <td>0.00</td>\n",
       "      <td>8602.000</td>\n",
       "      <td>61.13</td>\n",
       "      <td>76.50</td>\n",
       "      <td>986.5</td>\n",
       "      <td>697.2</td>\n",
       "      <td>1318.0</td>\n",
       "      <td>1333.0</td>\n",
       "      <td>476.40</td>\n",
       "      <td>677.0</td>\n",
       "      <td>232.100</td>\n",
       "      <td>507.0</td>\n",
       "      <td>251.50</td>\n",
       "      <td>391.500</td>\n",
       "      <td>255.70</td>\n",
       "      <td>206.60</td>\n",
       "      <td>920.70</td>\n",
       "      <td>287.800</td>\n",
       "    </tr>\n",
       "    <tr>\n",
       "      <th>2</th>\n",
       "      <td>-35.36</td>\n",
       "      <td>0.000</td>\n",
       "      <td>38.81</td>\n",
       "      <td>74.15</td>\n",
       "      <td>524.1</td>\n",
       "      <td>787.6</td>\n",
       "      <td>270.6</td>\n",
       "      <td>526.1</td>\n",
       "      <td>182.60</td>\n",
       "      <td>448.8</td>\n",
       "      <td>37.850</td>\n",
       "      <td>333.5</td>\n",
       "      <td>214.50</td>\n",
       "      <td>240.900</td>\n",
       "      <td>163.90</td>\n",
       "      <td>61.11</td>\n",
       "      <td>749.30</td>\n",
       "      <td>2811.500</td>\n",
       "    </tr>\n",
       "    <tr>\n",
       "      <th>3</th>\n",
       "      <td>-11.12</td>\n",
       "      <td>3.446</td>\n",
       "      <td>0.00</td>\n",
       "      <td>167.00</td>\n",
       "      <td>636.1</td>\n",
       "      <td>637.4</td>\n",
       "      <td>903.8</td>\n",
       "      <td>1329.0</td>\n",
       "      <td>25.77</td>\n",
       "      <td>347.3</td>\n",
       "      <td>5.994</td>\n",
       "      <td>287.1</td>\n",
       "      <td>32.14</td>\n",
       "      <td>161.700</td>\n",
       "      <td>122.80</td>\n",
       "      <td>9049.00</td>\n",
       "      <td>648.20</td>\n",
       "      <td>-4.449</td>\n",
       "    </tr>\n",
       "    <tr>\n",
       "      <th>4</th>\n",
       "      <td>-69.70</td>\n",
       "      <td>-113.600</td>\n",
       "      <td>-146.80</td>\n",
       "      <td>0.00</td>\n",
       "      <td>803.2</td>\n",
       "      <td>603.3</td>\n",
       "      <td>5695.0</td>\n",
       "      <td>4.9</td>\n",
       "      <td>-52.10</td>\n",
       "      <td>586.8</td>\n",
       "      <td>5688.000</td>\n",
       "      <td>197.8</td>\n",
       "      <td>213.10</td>\n",
       "      <td>19.020</td>\n",
       "      <td>-49.29</td>\n",
       "      <td>23.50</td>\n",
       "      <td>663.20</td>\n",
       "      <td>52.800</td>\n",
       "    </tr>\n",
       "    <tr>\n",
       "      <th>5</th>\n",
       "      <td>156.40</td>\n",
       "      <td>457.000</td>\n",
       "      <td>89.60</td>\n",
       "      <td>25.82</td>\n",
       "      <td>0.0</td>\n",
       "      <td>-137.1</td>\n",
       "      <td>353.5</td>\n",
       "      <td>-259.7</td>\n",
       "      <td>84.00</td>\n",
       "      <td>-203.6</td>\n",
       "      <td>101.100</td>\n",
       "      <td>267.8</td>\n",
       "      <td>28.06</td>\n",
       "      <td>8.642</td>\n",
       "      <td>42.70</td>\n",
       "      <td>-3210.00</td>\n",
       "      <td>-52.39</td>\n",
       "      <td>170.000</td>\n",
       "    </tr>\n",
       "  </tbody>\n",
       "</table>\n",
       "</div>"
      ],
      "text/plain": [
       "        1         2       3       4      5      6       7       8       9  \\\n",
       "1    0.00  8602.000   61.13   76.50  986.5  697.2  1318.0  1333.0  476.40   \n",
       "2  -35.36     0.000   38.81   74.15  524.1  787.6   270.6   526.1  182.60   \n",
       "3  -11.12     3.446    0.00  167.00  636.1  637.4   903.8  1329.0   25.77   \n",
       "4  -69.70  -113.600 -146.80    0.00  803.2  603.3  5695.0     4.9  -52.10   \n",
       "5  156.40   457.000   89.60   25.82    0.0 -137.1   353.5  -259.7   84.00   \n",
       "\n",
       "      10        11     12      13       14      15       16      17        18  \n",
       "1  677.0   232.100  507.0  251.50  391.500  255.70   206.60  920.70   287.800  \n",
       "2  448.8    37.850  333.5  214.50  240.900  163.90    61.11  749.30  2811.500  \n",
       "3  347.3     5.994  287.1   32.14  161.700  122.80  9049.00  648.20    -4.449  \n",
       "4  586.8  5688.000  197.8  213.10   19.020  -49.29    23.50  663.20    52.800  \n",
       "5 -203.6   101.100  267.8   28.06    8.642   42.70 -3210.00  -52.39   170.000  "
      ]
     },
     "execution_count": 2,
     "metadata": {},
     "output_type": "execute_result"
    }
   ],
   "source": [
    "groups = { # grupo: {secundário i:[molécula,R,Q],secundário i+1:[molécula,R,Q],etc}\n",
    "    1: {1:['CH3',0.9011,0.848],2:['CH2',0.6744,0.540],3:['CH',0.4469,0.228],4:['C',0.2195,0]},\n",
    "    2: {5:['CH2CH',1.3454,1.176],6:['CHCH',1.1167,0.867],7:['CH2C',1.1173,0.988],8:['CHC',0.8886,0.676],70:['CC',0.6605,0.485]},\n",
    "    3: {9:['ACH',0.5313,0.400],10:['AC',0.3652,0.120]},\n",
    "    4: {11:['ACCH3',1.2663,0.968],12:['ACCH2',1.0396,0.660],13:['ACCH',0.8121,0.348]},\n",
    "    5: {14:['OH',1.000,1.200]},\n",
    "    6: {15:['CH3OH',1.4311,1.432]},\n",
    "    7: {16:['H2O',0.9200,1.400]},\n",
    "    8: {17:['ACOH',0.8952,0.680]},\n",
    "    9: {18:['CH3CO',1.6724,1.488],19:['CH2CO',1.4457,1.180]},\n",
    "    10: {20:['CHO',0.9980,0.948]},\n",
    "    11: {21:['CH3COO',1.9031,1.728],22:['CH2COO',1.6764,1.420]},\n",
    "    12: {23:['HCOO',1.2420,1.188]}\n",
    "}\n",
    "g_groups = {}\n",
    "for i in groups.values():\n",
    "    g_groups.update(i)\n",
    "    \n",
    "a_mn = pd.read_csv('a-mn.csv', sep=';', index_col=0)\n",
    "a_mn.head()"
   ]
  },
  {
   "cell_type": "markdown",
   "metadata": {},
   "source": [
    "**Main class and it's methods:**\n",
    "* initializer\n",
    "* r, q and l coefficients\n",
    "* $\\phi$ and $\\theta$ factors\n",
    "* $\\gamma_c$ - combinatorial activity coefficient\n",
    "* $\\psi$ factor"
   ]
  },
  {
   "cell_type": "code",
   "execution_count": 652,
   "metadata": {
    "collapsed": true
   },
   "outputs": [],
   "source": [
    "class molecule():\n",
    "    def __init__(self,molGroups):\n",
    "        self.g = molGroups.keys()\n",
    "        self.v = molGroups.values()\n",
    "        self.groups = molGroups        \n",
    "        \n",
    "    def rql(self):\n",
    "        z,r,q = 10,0,0        \n",
    "        num = len(self.g)\n",
    "        if num > 1:\n",
    "            for i,k in zip(self.g,self.v):\n",
    "                r += g_groups[i][1] * k\n",
    "                q += g_groups[i][2] * k\n",
    "        else:\n",
    "            r = g_groups[tuple(self.g)[0]][1] * tuple(self.v)[0]\n",
    "            q = g_groups[tuple(self.g)[0]][2] * tuple(self.v)[0]\n",
    "        self.l = 0.5 * z * (r - q) - (r - 1)\n",
    "        self.r,self.q = r,q\n",
    "        return(self.r,self.q,self.l)\n",
    "    \n",
    "    def phi_theta(self, fluid):\n",
    "        phi,theta = {},{}       \n",
    "        phi[self] = self.r * x / (self.r * x + fluid.r * (1 - x))\n",
    "        phi[fluid] = fluid.r * (1 - x) / (self.r * x + fluid.r * (1 - x))\n",
    "        theta[self] = self.q * x / (self.q * x + fluid.q * (1 - x))\n",
    "        theta[fluid] = fluid.q * (1 - x) / (self.q * x + fluid.q * (1 - x))\n",
    "        self.phi, self.theta = phi[self], theta[self]\n",
    "        fluid.phi, fluid.theta = phi[fluid], theta[fluid]\n",
    "        return(self.phi, self.theta, fluid.phi, fluid.theta)\n",
    "    \n",
    "    def combinatorial(self, fluid):\n",
    "        self.x, fluid.x = x, (1-x)\n",
    "        self.gamma_c_ln = np.log(self.phi / self.x) + 5 * self.q * np.log(self.theta / self.phi) + \\\n",
    "                    self.l - (self.phi / self.x) * ( fluid.x * fluid.l + self.x * self.l )\n",
    "        fluid.gamma_c_ln = np.log(fluid.phi / fluid.x) + 5 * fluid.q * np.log(fluid.theta / fluid.phi) + \\\n",
    "                    fluid.l - (fluid.phi / fluid.x) * ( self.x * self.l + fluid.x * fluid.l )\n",
    "        self.gamma = np.exp(self.gamma_c_ln)\n",
    "        fluid.gamma = np.exp(fluid.gamma_c_ln)\n",
    "        return(self.gamma_c_ln, fluid.gamma_c_ln)    \n",
    "        \n",
    "    def psi_mod(self, fluid, pairs):\n",
    "        self.p = tuple([(i,j) for i in pairs for j in pairs])\n",
    "        a, psi = {}, {}\n",
    "        for i in self.p:\n",
    "            j = (i[0]-1,i[1]-1)\n",
    "            a[i] = a_mn.iat[j]\n",
    "            psi[i] = np.exp(-a_mn.iat[j] / T)\n",
    "        self.a_k, self.a_v, self.a = a.keys(), a.values(), a\n",
    "        self.psi_k, self.psi_v, self.psi = psi.keys(), psi.values(), psi\n",
    "        self.psi_matrix = np.reshape(np.array([acetona.psi[i] for i in acetona.p]),(3,3))\n",
    "        return(self.a_k, self.a_v, self.a)\n",
    "        return(self.psi_k, self.psi_v, self.psi)\n",
    "        return(self.p)\n",
    "        return(self.psi_matrix)\n",
    "    \n",
    "    def X_mod(self, fluid):                \n",
    "        den = sum([self.groups[k] for k in list(self.g)]) * self.x + \\\n",
    "              sum([fluid.groups[k] for k in list(fluid.g)]) * fluid.x\n",
    "        X = []\n",
    "        v1, v2 = list(self.v), list(fluid.v)\n",
    "        Xi = np.array(v1) / sum(v1), np.array(v2) / sum(v2)\n",
    "        self.Xi = Xi\n",
    "        g_list = list(set([i for j in [list(self.g),list(fluid.g)] for i in j]))\n",
    "        for k in sorted(g_list):\n",
    "            nom = 0\n",
    "            if k in list(self.g):\n",
    "                nom += self.groups[k] * self.x\n",
    "            if k in list(fluid.g):\n",
    "                nom += fluid.groups[k] * fluid.x\n",
    "            X.append(nom / den)      \n",
    "        self.X = X       \n",
    "        return(self.X)\n",
    "        return(self.Xi)\n",
    "    \n",
    "    def Theta_mod(self, fluid):\n",
    "        g_list = list(set([i for j in [list(self.g),list(fluid.g)] for i in j]))\n",
    "        nom = np.multiply(np.transpose(self.X) ,np.array([g_groups[k][2] for k in sorted(g_list)]))\n",
    "        den = sum(nom)\n",
    "        self.Theta = np.divide(nom, den)\n",
    "        return(self.Theta)\n",
    "    \n",
    "    def Theta_mod_i(self, fluid):\n",
    "        g1, g2 = list(self.g), list(fluid.g)\n",
    "        Q1, Q2 = [g_groups[i][2] for i in g1], [g_groups[i][2] for i in g2]\n",
    "        nom1, nom2 = np.multiply(self.Xi[0],Q1), np.multiply(self.Xi[1],Q2)\n",
    "        den1, den2 = sum(nom1), sum(nom2)\n",
    "        self.Theta1, self.Theta2 = nom1 / den1, nom2 / den2\n",
    "        return(self.Theta1, self.Theta2)\n",
    "    \n",
    "    def Gamma_k(self, fluid):\n",
    "        g_list = list(set([i for j in [list(self.g),list(fluid.g)] for i in j]))\n",
    "        Q = [g_groups[k][2] for k in sorted(g_list)]\n",
    "        nTheta = np.reshape(self.Theta,(3,1))\n",
    "        pt = np.multiply(self.psi_matrix,nTheta)\n",
    "        pt2 = np.multiply(self.psi_matrix,self.Theta)\n",
    "        denom = np.sum(pt,axis=0)\n",
    "        gam = 1 - np.log(denom) - np.sum(np.divide([i for i in pt2],denom),axis=1)\n",
    "        self.gamma_k_ln = np.multiply(Q,gam)\n",
    "        return(self.gamma_k_ln)\n",
    "    \n",
    "    def Gamma_k_i(self, fluid):\n",
    "        t1, t2 = self.Theta1, self.Theta2\n",
    "        g1, g2 = list(self.g), list(fluid.g)\n",
    "        Q1, Q2 = [g_groups[i][2] for i in g1], [g_groups[i][2] for i in g2]\n",
    "        Y = self.psi_matrix\n",
    "        a, b = np.multiply([Y[0,0],Y[2,0]], t1), np.multiply([Y[0,2],Y[2,2]], t1)\n",
    "        c, d = np.multiply([Y[0,0],Y[1,0]], t2), np.multiply([Y[0,1],Y[1,1]], t2)\n",
    "        e, f = np.multiply([Y[0,0],Y[0,2]], t1), np.multiply([Y[2,0],Y[2,2]], t1)\n",
    "        g, h = np.multiply([Y[0,0],Y[0,1]], t1), np.multiply([Y[1,0],Y[1,1]], t2)\n",
    "        gamma_1 = Q1[0] * (1 - np.log(sum(a)) - e[0] / sum(a) - e[1] / sum(b) )\n",
    "        gamma_2 = Q1[1] * (1 - np.log(sum(b)) - f[0] / sum(a) - f[1] / sum(b) )\n",
    "        gamma_3 = Q2[0] * (1 - np.log(sum(c)) - g[0] / sum(c) - g[1] / sum(d) )\n",
    "        gamma_4 = Q2[1] * (1 - np.log(sum(d)) - h[0] / sum(c) - h[1] / sum(d) )        \n",
    "        return(gamma_1,gamma_2,gamma_3,gamma_4)\n",
    "    \n",
    "    def residual(self, fluid):\n",
    "        v1, v2 = list(self.v), list(fluid.v)\n",
    "        k_i = self.Gamma_k_i(fluid)\n",
    "        g1 = np.array([self.Gamma_k(fluid)[0],self.Gamma_k(fluid)[2]])\n",
    "        g2 = np.array([self.Gamma_k(fluid)[0],self.Gamma_k(fluid)[1]])\n",
    "        gamma_r_ln_1 = sum(np.multiply(v1,g1-k_i[:2]))\n",
    "        gamma_r_ln_2 = sum(np.multiply(v2,g2-k_i[2:]))\n",
    "        gamma_r_1, gamma_r_2 = np.exp(gamma_r_ln_1), np.exp(gamma_r_ln_2)\n",
    "        return(gamma_r_ln_1, gamma_r_ln_2)\n",
    "    \n",
    "    def Gamma(self, fluid):\n",
    "        yr = self.residual(fluid)\n",
    "        yc = self.combinatorial(fluid)\n",
    "        y_ln = yr + yc\n",
    "        y = np.exp(y_ln)\n",
    "        return(y)"
   ]
  },
  {
   "cell_type": "code",
   "execution_count": 129,
   "metadata": {
    "collapsed": false
   },
   "outputs": [
    {
     "name": "stdout",
     "output_type": "stream",
     "text": [
      "(1.4311, 1.432, -0.43559999999999954) (0.92, 1.4, -2.3199999999999994)\n"
     ]
    },
    {
     "ename": "TypeError",
     "evalue": "'float' object is not subscriptable",
     "output_type": "error",
     "traceback": [
      "\u001b[1;31m---------------------------------------------------------------------------\u001b[0m",
      "\u001b[1;31mTypeError\u001b[0m                                 Traceback (most recent call last)",
      "\u001b[1;32m<ipython-input-129-6e9606f1cfbf>\u001b[0m in \u001b[0;36m<module>\u001b[1;34m()\u001b[0m\n\u001b[0;32m      6\u001b[0m \u001b[0mprint\u001b[0m\u001b[1;33m(\u001b[0m\u001b[0mmethanol\u001b[0m\u001b[1;33m.\u001b[0m\u001b[0mrql\u001b[0m\u001b[1;33m(\u001b[0m\u001b[1;33m)\u001b[0m\u001b[1;33m,\u001b[0m\u001b[0mwater\u001b[0m\u001b[1;33m.\u001b[0m\u001b[0mrql\u001b[0m\u001b[1;33m(\u001b[0m\u001b[1;33m)\u001b[0m\u001b[1;33m)\u001b[0m\u001b[1;33m\u001b[0m\u001b[0m\n\u001b[0;32m      7\u001b[0m \u001b[0mmethanol\u001b[0m\u001b[1;33m.\u001b[0m\u001b[0mphi_theta\u001b[0m\u001b[1;33m(\u001b[0m\u001b[0mwater\u001b[0m\u001b[1;33m)\u001b[0m\u001b[1;33m\u001b[0m\u001b[0m\n\u001b[1;32m----> 8\u001b[1;33m \u001b[0mprint\u001b[0m\u001b[1;33m(\u001b[0m\u001b[0mmethanol\u001b[0m\u001b[1;33m.\u001b[0m\u001b[0mphi\u001b[0m\u001b[1;33m[\u001b[0m\u001b[1;36m1\u001b[0m\u001b[1;33m]\u001b[0m\u001b[1;33m)\u001b[0m\u001b[1;33m\u001b[0m\u001b[0m\n\u001b[0m\u001b[0;32m      9\u001b[0m \u001b[0mprint\u001b[0m\u001b[1;33m(\u001b[0m\u001b[0mmethanol\u001b[0m\u001b[1;33m.\u001b[0m\u001b[0mtheta\u001b[0m\u001b[1;33m[\u001b[0m\u001b[1;36m1\u001b[0m\u001b[1;33m]\u001b[0m\u001b[1;33m)\u001b[0m\u001b[1;33m\u001b[0m\u001b[0m\n\u001b[0;32m     10\u001b[0m \u001b[0mprint\u001b[0m\u001b[1;33m(\u001b[0m\u001b[0mmethanol\u001b[0m\u001b[1;33m.\u001b[0m\u001b[0mcombinatorial\u001b[0m\u001b[1;33m(\u001b[0m\u001b[0mwater\u001b[0m\u001b[1;33m)\u001b[0m\u001b[1;33m[\u001b[0m\u001b[1;36m1\u001b[0m\u001b[1;33m]\u001b[0m\u001b[1;33m)\u001b[0m\u001b[1;33m\u001b[0m\u001b[0m\n",
      "\u001b[1;31mTypeError\u001b[0m: 'float' object is not subscriptable"
     ]
    }
   ],
   "source": [
    "#x = np.linspace(0.047,0.9,9) \n",
    "x = 0.047\n",
    "T = 323.15\n",
    "methanol = molecule({15:1})\n",
    "water = molecule({16:1})\n",
    "print(methanol.rql(),water.rql())\n",
    "methanol.phi_theta(water)\n",
    "print(methanol.phi[1])\n",
    "print(methanol.theta[1])\n",
    "print(methanol.combinatorial(water)[1])\n",
    "print(x[1])\n",
    "print(water.phi[1])\n",
    "print(water.theta[1])\n",
    "print((1-x)[1])\n",
    "methanol.combinatorial(water)\n",
    "print(methanol.gamma[1])\n",
    "print(water.gamma[1])\n",
    "methanol.psi_mod(water,[5,6])\n",
    "print([(methanol.psi[i],i) for i in methanol.p])"
   ]
  },
  {
   "cell_type": "code",
   "execution_count": 653,
   "metadata": {
    "collapsed": false
   },
   "outputs": [
    {
     "name": "stdout",
     "output_type": "stream",
     "text": [
      "(3.8254, 3.316, -0.27839999999999865) (2.5735, 2.336, -0.3859999999999988)\n"
     ]
    }
   ],
   "source": [
    "T = 307\n",
    "pentano = molecule({1:2,2:3})\n",
    "acetona = molecule({1:1,18:1})\n",
    "print(pentano.rql(),acetona.rql())"
   ]
  },
  {
   "cell_type": "markdown",
   "metadata": {},
   "source": [
    "#### pentane-ketone mixture - combinatorial\n",
    "* r,q and l coefficients\n",
    "* $\\phi$ and $\\theta$ factors\n",
    "* $\\gamma^c$ coefficient"
   ]
  },
  {
   "cell_type": "code",
   "execution_count": 654,
   "metadata": {
    "collapsed": false
   },
   "outputs": [
    {
     "name": "stdout",
     "output_type": "stream",
     "text": [
      "0.032112717578134345 0.03357615124436534 0.9678872824218657 0.9664238487556346\n",
      "0.948648194133 -0.0527172612915 0.999898235766 -0.000101769412499\n"
     ]
    }
   ],
   "source": [
    "acetona.rql()\n",
    "acetona.phi_theta(pentano)\n",
    "acetona.combinatorial(pentano)\n",
    "print(acetona.phi,acetona.theta,pentano.phi,pentano.theta)\n",
    "print(acetona.gamma,acetona.gamma_c_ln,pentano.gamma,pentano.gamma_c_ln)"
   ]
  },
  {
   "cell_type": "markdown",
   "metadata": {},
   "source": [
    "#### residual\n",
    "the $\\gamma^r$ coefficient requires a few factors in order to be computed:\n",
    "* psi"
   ]
  },
  {
   "cell_type": "code",
   "execution_count": 655,
   "metadata": {
    "collapsed": false
   },
   "outputs": [
    {
     "data": {
      "text/plain": [
       "array([[ 1.        ,  1.        ,  0.21186807],\n",
       "       [ 1.        ,  1.        ,  0.21186807],\n",
       "       [ 0.91652483,  0.91652483,  1.        ]])"
      ]
     },
     "execution_count": 655,
     "metadata": {},
     "output_type": "execute_result"
    }
   ],
   "source": [
    "acetona.psi_mod(pentano,[1,1,9])\n",
    "acetona.psi_matrix"
   ]
  },
  {
   "cell_type": "code",
   "execution_count": 656,
   "metadata": {
    "collapsed": false
   },
   "outputs": [
    {
     "name": "stdout",
     "output_type": "stream",
     "text": [
      "[0.4019345544350689, 0.5883926733895863, 0.009672772175344721]\n",
      "[ 0.4  0.6]\n"
     ]
    }
   ],
   "source": [
    "acetona.X_mod(pentano)\n",
    "print(acetona.X)\n",
    "print(acetona.Xi[1])"
   ]
  },
  {
   "cell_type": "code",
   "execution_count": 657,
   "metadata": {
    "collapsed": false
   },
   "outputs": [
    {
     "name": "stdout",
     "output_type": "stream",
     "text": [
      "[ 0.50647535  0.4721371   0.02138755]\n"
     ]
    }
   ],
   "source": [
    "print(acetona.Theta_mod(pentano))"
   ]
  },
  {
   "cell_type": "code",
   "execution_count": 658,
   "metadata": {
    "collapsed": false
   },
   "outputs": [
    {
     "data": {
      "text/plain": [
       "array([  1.36769256e-03,   8.70936299e-04,   2.20700647e+00])"
      ]
     },
     "execution_count": 658,
     "metadata": {},
     "output_type": "execute_result"
    }
   ],
   "source": [
    "acetona.Gamma_k(pentano)"
   ]
  },
  {
   "cell_type": "code",
   "execution_count": 659,
   "metadata": {
    "collapsed": false
   },
   "outputs": [
    {
     "data": {
      "text/plain": [
       "array([ 0.3630137,  0.6369863])"
      ]
     },
     "execution_count": 659,
     "metadata": {},
     "output_type": "execute_result"
    }
   ],
   "source": [
    "acetona.Theta_mod_i(pentano)[0]"
   ]
  },
  {
   "cell_type": "code",
   "execution_count": 660,
   "metadata": {
    "collapsed": false
   },
   "outputs": [
    {
     "data": {
      "text/plain": [
       "(0.40890193217406967, 0.13891146087738879, 0.0, 0.0)"
      ]
     },
     "execution_count": 660,
     "metadata": {},
     "output_type": "execute_result"
    }
   ],
   "source": [
    "acetona.Gamma_k_i(pentano)"
   ]
  },
  {
   "cell_type": "code",
   "execution_count": 661,
   "metadata": {
    "collapsed": false
   },
   "outputs": [
    {
     "data": {
      "text/plain": [
       "(1.6605607656292074, 0.0053481940152734202)"
      ]
     },
     "execution_count": 661,
     "metadata": {},
     "output_type": "execute_result"
    }
   ],
   "source": [
    "acetona.residual(pentano)"
   ]
  },
  {
   "cell_type": "code",
   "execution_count": 662,
   "metadata": {
    "collapsed": false
   },
   "outputs": [
    {
     "data": {
      "text/plain": [
       "array([ 5.26226091,  1.00536252,  0.94864819,  0.99989824])"
      ]
     },
     "execution_count": 662,
     "metadata": {},
     "output_type": "execute_result"
    }
   ],
   "source": [
    "acetona.Gamma(pentano)"
   ]
  },
  {
   "cell_type": "code",
   "execution_count": null,
   "metadata": {
    "collapsed": true
   },
   "outputs": [],
   "source": []
  }
 ],
 "metadata": {
  "kernelspec": {
   "display_name": "Python 3",
   "language": "python",
   "name": "python3"
  },
  "language_info": {
   "codemirror_mode": {
    "name": "ipython",
    "version": 3
   },
   "file_extension": ".py",
   "mimetype": "text/x-python",
   "name": "python",
   "nbconvert_exporter": "python",
   "pygments_lexer": "ipython3",
   "version": "3.5.1+"
  }
 },
 "nbformat": 4,
 "nbformat_minor": 0
}
